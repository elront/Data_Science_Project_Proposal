{
 "cells": [
  {
   "cell_type": "markdown",
   "metadata": {
    "direction": "rtl"
   },
   "source": [
    "# הצעה לפרויקט גמר, סדנה במדעי הנתונים"
   ]
  },
  {
   "cell_type": "markdown",
   "metadata": {
    "direction": "rtl"
   },
   "source": [
    "## פרטי המגיש"
   ]
  },
  {
   "cell_type": "markdown",
   "metadata": {
    "direction": "rtl"
   },
   "source": [
    "* שם פרטי: אלרון.\n",
    "* שם משפחה: טויזר.\n",
    "* מספר ת\"ז: 301801346."
   ]
  },
  {
   "cell_type": "markdown",
   "metadata": {
    "direction": "rtl"
   },
   "source": [
    "## מטרות הפרויקט"
   ]
  },
  {
   "cell_type": "markdown",
   "metadata": {
    "direction": "rtl"
   },
   "source": [
    "בפרויקט זה אבקש לסייע לטייסת מבצעית בחיל האוויר לשפר את תהליכי האחזקה והתכנון, על מנת להפחית את כמות התקלות הכללית של מסוקי הטייסת, כמו גם לשפר את זמן המענה והטיפול בתקלות. יתר על כן אבקש להפיק תובנות לגבי מבנה הטיסות השבועי המומלץ (אימונים) וזאת על מנת לטייב את מועדי שגרות האחזקה של הגף הטכני, דבר שיתרום להגדלת זמינות המסוקים לטיסה, כלומר יסייע דה-פקטו לשיפור הכשירות המבצעית של טייסי הטייסת (יאפשר להגדיל את כמות שעות הטיסה באימונים פר הגעה לטיסות). את הנ\"ל אבקש לבצע ע\"י ניתוח והפקת תובנות מהמידע שהתקבל מחיל האוויר, כמו גם בניית מודל (רגרסיה) לסיווג תקלות בהסתמך על משתני מזג האוויר, תוך הסתמכות על בסיס הנתונים של השירות המטארולוגי הישראלי. \n",
    "\n",
    "לפיכך, מטרות העל של הפרויקט הינן:\n",
    "* ניתוח היבטים שונים של נתוני תקלות לטובת מיקוד תהליכי האחזקה והתכנון, עבור שני מוקדי העבודה העיקריים של הטייסת (בסיס רמון, בסיס רמת דוד).\n",
    "* ניתוח מבנה הטיסות השבועי המשתנה והשפעתו על תקלות, לטובת טיוב עבודת הטייסת.\n",
    "* בניית מודל לסיווג תקלות בהינתן קלט של משתני מזג אוויר, בחנייה על הקרקע.\n",
    "* בניית מודל לסיווג תקלות בהינתן קלט של משתני מזג אוויר, תוך כדי או לאחר סיום טיסות בתנאי מז\"א משתנים."
   ]
  },
  {
   "cell_type": "markdown",
   "metadata": {
    "direction": "rtl"
   },
   "source": [
    "## מוטיבציה"
   ]
  },
  {
   "cell_type": "markdown",
   "metadata": {
    "direction": "rtl"
   },
   "source": [
    "להלן מצורף צורך אחזקתי החתום בידי סגן מפקד הטייסת, המבקש לבצע את עבודת הניתוח וההמלצות כאמור (עבור החלק הנוגע להשפעות מזג האוויר):"
   ]
  },
  {
   "cell_type": "markdown",
   "metadata": {},
   "source": [
    "![IAF_Request](images/IAF_Request.jpg)"
   ]
  },
  {
   "cell_type": "markdown",
   "metadata": {
    "direction": "rtl"
   },
   "source": [
    "באופן אישי, כמשרת מילואים פעיל בטייסת, וכמי שביצע בה בעבר תפקיד פיקודי ומודע להשלכות רבות המשקל של אחוזי השמישות הנמוכים יחסית של מערך המסוקים (הן מבחינת שגרות האחזקה, והן מבחינת יציבות לוח הטיסות השבועי, וניהול שגרות האימונים), אני מוצא עניין ורצון לקדם נושא זה. \n",
    "\n",
    "כפי שנכתב בצורך האחזקתי לעיל, כיום לא מבוצעת עבודת ניתוח נתוני תקלות בטייסת, מלבד הוצאת נתונים סטטיסטיים תוצאתיים, שאינם מסייעים בקבלת החלטות (לדוגמא: זמן ממוצע בין תקלות, אחוזי שמישות - כלומר כמה מהמסוקים שמישים לטיסה בבוקרו של כל יום, מבין כל המסוקים הקיימים בטייסת, ועוד'). זאת ועוד, החלטות שונות הנוגעות לזמינות חלפים, ונוכחות של מקצועות אחזקה שונים בליין הינם תולדה של כללי אצבע, ו\"תחושות בטן\" ולא מבוססי ידע.\n",
    "\n",
    "פעמים רבות בעבר שונה המבנה השבועי של לוח הטיסות. כאמור, המבנה השבועי מכתיב את התנהלות הטייסת בשגרה (אימונים), ומערב משאבים ואילוצים רבים (למשל: קיום מועד שגרות האחזקה, הקצאת משאבי האימון הנדרשים - אזורי טיסה ועוד'). המימד הקושר בין שמישות הסד\"כ לבין המבנה השבועי נבחן בעבר, אם כי בצורה לא מקיפה ולא מכלילה (הסקה על סמך מספר דגימות קטן מאוד, הסתכלות על תכנון מול ביצוע של שעות טיסה, ללא התייחסות פרטנית לתקלות ועוד'). על כן, במסגרת עבודה זו נרצה לחשוף את המימד הנוסף הקשור למבנה השבועי, והוא התקלות.  \n",
    "\n",
    "מאפיין נוסף וחשוב של מערך המסוקים הינו טיסה בתנאי מז\"א. מערך המסוקים מסוגל ונדרש לבצע משימותיו בנוכחות מז\"א. עם זאת, הגדלת כמות התקלות (באם נובעות מפגעי מז\"א בזמן טיסה או בעת חנייה על הקרקע), עשויה להקטין הלכה למעשה את זמינות הסד\"כ לביצוע משימות בתנאי מז\"א. החלטה מושכלת ומדודה של קיום אימונים בתנאי מז\"א במתכוון, ושלא במקרה, עשויה להגדיל את נצילות הסד\"כ. זאת ועוד, היכרות עם גורמי הסיכון לקרות תקלות מסוגים ספציפיים, עשויה לקדם שגרות אחזקה מונעות (מאיטום ועד בידוד אזורים רגישים, כמו קופסאות אלקטורניקה), ועד הגדלת הזמינות בליין המסוקים של דרג מקצועות מסוים, לשם מתן מענה מיטבי לסד\"כ הטס (הן אם בבדיקות יזומות, או בקיצור משך הטיפול בתקלה).\n",
    "\n",
    "התנהלות הטייסת הן על הקרקע והן באוויר במזג אוויר, הינה סוגיה משמעותית. כפי שנכתב בצורך האחזקתי - חניית המסוקים בשגרה מתקיימת תחת כיפת השמיים (בניגוד למערכים אחרים בחיל האוויר), ומשכך חשופים המסוקים ביתר שאר לפגעי מזג האוויר - רוח, גשם, טמפ' קיצונית (חום או קור), לחות וקרינה. כיום נעשה שימוש חלקי בלבד בסככות המשמשות בכלל לתהליכי אחזקה, כמו גם בכיסויים חלקיים, שאמורים לסייע בשמירה על המסוקים בעת חנייתם על הקרקע. עם זאת, פעמים רבות שגרות אחזקה או דרישות מבצעיות מלוות בקבלת החלטות להשארת סד\"כ המסוקים חשוף לחלוטין. להחלטות אלו עשויות להיות השלכות משמעותיות, כמו למשל - גילוי מסוקים תקולים בעת הזנקה לפעילות מבצעית, מה שמעכב את המראת הטייסים (דורש מעבר למסוק חלופי, או ניסיון לתיקון התקלה במקום - \"נוהל שיגור\") ועשוי להאריך את זמן התגובה בקרות אירוע.\n",
    "\n",
    "נסכם את המוטיבציה הכללית, והאישית לביצוע הפרויקט:\n",
    "* הפרויקט עשוי להוות תרומה להגדלת שמישות המסוקים, ע\"י מתן המלצות קונקרטיות להתאמת תהליכי האחזקה ותכנון הטיסות.\n",
    "* תרומה זו מתורגמת בקצה לניצול טוב ונכון יותר של כספי משלם המיסים הישראלי, ולהגדלת זמינות המסוקים לביצוע פעילות מבצעית.\n",
    "* רצון אישי לקדם נושא שהשפיע רבות, ועודנו משפיע על חווית השירות של רבים אחרים (חיילים וקצינים בסדיר), ושלי (מילואים).\n",
    "* הוכחת היתכנות לביצוע עבודת ניתוח כאמור, מחוץ לחיל האוויר, תוך פתיחת הצוהר לביצוע עבודות נוספות (בסיווג \"בלתי מסווג\") בעתיד עבור טייסות נוספות, שלרוב לא נהנות מהכלים רבי העוצמה לכרייה וניתוח נתונים, שיש לצה\"ל להציע. "
   ]
  },
  {
   "cell_type": "markdown",
   "metadata": {
    "direction": "rtl"
   },
   "source": [
    "## רקע נדרש"
   ]
  },
  {
   "cell_type": "markdown",
   "metadata": {
    "direction": "rtl"
   },
   "source": [
    "### מבנה גפי האחזקה"
   ]
  },
  {
   "cell_type": "markdown",
   "metadata": {
    "direction": "rtl"
   },
   "source": [
    "אחזקת מסוקי הטייסת מוחלקת בין מספר דרגים שונים:\n",
    "\n",
    "* **דרג א'** - הגף הטכני של הטייסת. דרג זה נוכח בליין הטיסה ומבצע את שגרות האחזקה השוטפות של המסוקים. בדרג זה מספר מחלקות: ממ\"ס (מבנה מסוק כמו - מכלולים נעים - רוטורים, ממסרים ועוד'), חמ\"מ (חשמל, חיוט ועוד') וחימוש. כל מחלקה מתמקצעת בתחום טיפול ספציפי. כמו כן בדרג זה חלוקה למס' סככות, כאשר לכל סככה משויכים מספר מסוקים, והיא מבצעת עבורם את שגרות האחזקה השוטפות. באחזקה השוטפת משתתפות גם המחלקות, בהגעה פיסית לסככות. כמו כן תקלות פרטניות מטופלות ע\"י כל אחת מהמחלקות.\n",
    "\n",
    "* **דרג ב'** - מחלקות תחת יחידה בסיסית. מדובר במחלקות שנותנות שירות רוחבי למס' יחידות בבסיס. תחומי האחריות (המחלקות) של דרג ב' נבדלים מאלו של דרג א': מבנה, (גוף המסוק), מנועים, אוויוניקה, ומערכות. מבלי לפרט את כלל תפקידיו של דרג ב', נציין לטובת פרויקט זה כי חלק מהתקלות שנפתחות בדרג א' (כאמור, אלו שינותחו במסגרת עבודה זו) משויכות למחלקות דרג ב', והן נדרשות לטפל בהן. נשים לב כי הזמינות של דרג ב' פחותה מזו של דרג א' - אין הוא כפוף ישירות לטייסת, ואין הוא נוכח בליין בזמן טיסות (מלבד מחלקת אוויניקה, שלנציגיו אפשרות לפתור חלק מהתקלות הקלות מבלי להביא לביטול הגיחה המתוכננת).\n",
    "\n",
    "* **דרג ג'** - לא נידון בו במסגרת עבודה זו, שכן שגרות האחזקה הינן שגרות יזומות אחת ל-X שעות טיסה. \n",
    "\n",
    "* **דרג ד'** - לא נידון בו במסגרת עבודה זו, שכן שגרות האחזקה שלו הינן שגרות יזומות אחת ל-X שעות טיסה.\n",
    "\n",
    "\n",
    "**נסכם** - התקלות המדווחות שיסקרו וינותחו במסגרת עבודה זו הינן תקלות שנפתחו בדרג א' (בטייסת), ומטופלות ע\"י דרגים א' ו-ב'."
   ]
  },
  {
   "cell_type": "markdown",
   "metadata": {
    "direction": "rtl"
   },
   "source": [
    "### שגרות האחזקה היזומות"
   ]
  },
  {
   "cell_type": "markdown",
   "metadata": {
    "direction": "rtl"
   },
   "source": [
    "* **שגרה שבועית** – מתקיימת אחת לשבועיים, או בכל 25 שעות טיסה. מדובר בשגרת הבדיקה המקיפה ביותר. לשם הבדיקה המסוק עומד ליום שלם (בוקר עד ערב), ואינו זמין לטיסות. במהלך השגרה השבועית עשויות להתגלות תקלות שלא יתגלו ביתר שגרות הבדיקה, מאחר ומערך הבדיקה הוא המקיף ביותר.\n",
    "* **שגרת בדיקות לפני טיסה (Preflight**) – מתקיימת לפני יום טיסות. הבדיקה תקפה ל-24 שעות או ל-10 שעות טיסה מצטברות. \n",
    "* **שגרת בדיקות בין גיחות** – בדיקה מקוצרת ביחס לשגרת הבדיקות לפני טיסה. מבוצעת בין גיחות. ניתן לבצעה עד 5 פעמים בתוך טווח התקפות של שגרת ה-Preflight. בין גיחות היא בדיקה קצרה יותר ביחס ל-Preflight. עם זאת, ההסתברות לאי גילוי תקלה במהלך שגרת בין גיחות בהינתן גילויה במהלך שגרת ה-Preflight נמוכה מאוד.\n",
    "* **שגרת בדיקות החלפות** – מדובר בבדיקה קצרה בהרבה ביחס לבין גיחות. בדיקה זו מבוצעת כאשר המסוק מונע באמצעות מנוע העזר (כלומר לרוב כאשר מחליפים את צוות הטייסים לפני שהמסוק יוצא לטיסה הבאה). בכל נחיתה מבצעים בדיקת החלפות. ניתן לבצע שגרה זו עד 5 פעמים בתוך טווח התקפות של ה-Preflight (10 שעות טיסה).\n",
    "* **בדיקת רצועות** – מדובר בבדיקה ספציפית שמבוצעת בכל 5 שעות טיסה או בכל כיבוי מנוע עזר, באופן קטגורי. בסיום בדיקה זו יכולה להתגלות תקלה ספציפית.\n",
    "* **שגרת בדיקות סבב מהיר** – מדובר במקבילה לשגרת בין גיחות שתוארה לעיל, שמיושמת ברמת דוד מטעמים מסווגים. "
   ]
  },
  {
   "cell_type": "markdown",
   "metadata": {
    "direction": "rtl"
   },
   "source": [
    "### מתי נפתחות תקלות?"
   ]
  },
  {
   "cell_type": "markdown",
   "metadata": {
    "direction": "rtl"
   },
   "source": []
  },
  {
   "cell_type": "markdown",
   "metadata": {
    "direction": "rtl"
   },
   "source": [
    "### מבנה טיסות שבועי"
   ]
  },
  {
   "cell_type": "markdown",
   "metadata": {
    "direction": "rtl"
   },
   "source": [
    "למבנה הטיסות השבועי השפעה רבה על שגרות האחזקה של הטייסת."
   ]
  },
  {
   "cell_type": "markdown",
   "metadata": {
    "direction": "rtl"
   },
   "source": [
    "### מוקדי חנייה ואחזקה"
   ]
  },
  {
   "cell_type": "markdown",
   "metadata": {
    "direction": "rtl"
   },
   "source": []
  },
  {
   "cell_type": "markdown",
   "metadata": {
    "direction": "rtl"
   },
   "source": [
    "## הסבר על ה-Data"
   ]
  },
  {
   "cell_type": "markdown",
   "metadata": {
    "direction": "rtl"
   },
   "source": [
    "בפרויקט זה אעבוד עם 4 Datasets שונים, ואלו הם:\n",
    "\n",
    "* Dataset תקלות.\n",
    "* Dataset גיחות אימונים.\n",
    "* Dataset מיקום חניית מסוקים.\n",
    "* Dataset נתונים מטארולוגיים.\n",
    "\n",
    "בסעיפים הבאים אספק הסבר על כל אחד מהנ\"ל - מקורו ותכונותיו."
   ]
  },
  {
   "cell_type": "markdown",
   "metadata": {
    "direction": "rtl"
   },
   "source": [
    "### Dataset תקלות"
   ]
  },
  {
   "cell_type": "markdown",
   "metadata": {
    "direction": "rtl"
   },
   "source": []
  },
  {
   "cell_type": "markdown",
   "metadata": {
    "direction": "rtl"
   },
   "source": [
    "### Dataset גיחות אימונים"
   ]
  },
  {
   "cell_type": "markdown",
   "metadata": {
    "direction": "rtl"
   },
   "source": []
  },
  {
   "cell_type": "markdown",
   "metadata": {
    "direction": "rtl"
   },
   "source": [
    "### Dataset מיקום חניית מסוקים"
   ]
  },
  {
   "cell_type": "markdown",
   "metadata": {
    "direction": "rtl"
   },
   "source": []
  },
  {
   "cell_type": "markdown",
   "metadata": {
    "direction": "rtl"
   },
   "source": [
    "### Dataset נתונים מטארולוגיים"
   ]
  },
  {
   "cell_type": "markdown",
   "metadata": {
    "direction": "rtl"
   },
   "source": []
  },
  {
   "cell_type": "markdown",
   "metadata": {
    "direction": "rtl"
   },
   "source": [
    "## כלים בשימוש"
   ]
  },
  {
   "cell_type": "markdown",
   "metadata": {
    "direction": "rtl"
   },
   "source": []
  },
  {
   "cell_type": "markdown",
   "metadata": {
    "direction": "rtl"
   },
   "source": [
    "## ראשי פרקים של פרויקט הגמר ותוצאות ראשוניות"
   ]
  },
  {
   "cell_type": "markdown",
   "metadata": {
    "direction": "rtl"
   },
   "source": [
    "בסעיף זה אציג את מבנה ראשי הפרקים של פרויקט הגמר, ואספק תוצאות ראשוניות (בעיקר בכל הנוגע להכנת ה-Datasets לעבודה).\n",
    "כמו כן, אכלול תחת כל ראש פרק את רשימת הניתוחים / ויזואליזציות / בניית מודלים שאבקש לבצע בפרויקט הגמר, על מנת להסביר את כוונתיי להמשך.\n",
    "\n",
    "הערה - למבנה ראשי הפרקים המצורף מטה יווספו תת הסעיפים הבאים (יכילו חלקים מהאמור לעיל - הצעה לפרויקט גמר):\n",
    "\n",
    "1. מבוא - מטרות הפרויקט ומוטיבציה. \n",
    "2. רקע - הצגת מבנה גפי אחזקה, הצגת מבנה טיסות שבועי, הצגת מוקדי חנייה ואחזקה, תיאור שגרות אחזקה, הסבר על ה-Datasets. "
   ]
  },
  {
   "cell_type": "markdown",
   "metadata": {
    "direction": "rtl"
   },
   "source": [
    "## 3. הכנת ה-Datasets"
   ]
  },
  {
   "cell_type": "markdown",
   "metadata": {
    "direction": "rtl"
   },
   "source": [
    "### Dataset 3.1 תקלות"
   ]
  },
  {
   "cell_type": "markdown",
   "metadata": {
    "direction": "rtl"
   },
   "source": [
    "#### 3.1.1 קריאת הקובץ שהתקבל מחיל האוויר"
   ]
  },
  {
   "cell_type": "code",
   "execution_count": null,
   "metadata": {},
   "outputs": [],
   "source": []
  },
  {
   "cell_type": "markdown",
   "metadata": {
    "direction": "rtl"
   },
   "source": [
    "#### 3.1.2 בדיקה וטיפול בערכים חסרים"
   ]
  },
  {
   "cell_type": "code",
   "execution_count": null,
   "metadata": {},
   "outputs": [],
   "source": []
  },
  {
   "cell_type": "markdown",
   "metadata": {
    "direction": "rtl"
   },
   "source": [
    "#### 3.1.3 עיצוב ה-Dataset ושמירתו"
   ]
  },
  {
   "cell_type": "code",
   "execution_count": null,
   "metadata": {},
   "outputs": [],
   "source": []
  },
  {
   "cell_type": "markdown",
   "metadata": {
    "direction": "rtl"
   },
   "source": [
    "### Dataset 3.2 גיחות אימונים"
   ]
  },
  {
   "cell_type": "markdown",
   "metadata": {
    "direction": "rtl"
   },
   "source": [
    "#### 3.2.1 קריאת הקובץ שהתקבל מחיל האוויר"
   ]
  },
  {
   "cell_type": "code",
   "execution_count": null,
   "metadata": {},
   "outputs": [],
   "source": []
  },
  {
   "cell_type": "markdown",
   "metadata": {
    "direction": "rtl"
   },
   "source": [
    "#### 3.2.2 בדיקה וטיפול בערכים חסרים"
   ]
  },
  {
   "cell_type": "code",
   "execution_count": null,
   "metadata": {},
   "outputs": [],
   "source": []
  },
  {
   "cell_type": "markdown",
   "metadata": {
    "direction": "rtl"
   },
   "source": [
    "#### 3.2.3 עיצוב ה-Dataset ושמירתו"
   ]
  },
  {
   "cell_type": "code",
   "execution_count": null,
   "metadata": {},
   "outputs": [],
   "source": []
  },
  {
   "cell_type": "markdown",
   "metadata": {
    "direction": "rtl"
   },
   "source": [
    "### Dataset 3.3 חניות מסוקים"
   ]
  },
  {
   "cell_type": "markdown",
   "metadata": {
    "direction": "rtl"
   },
   "source": [
    "#### 3.3.1 קריאת הקובץ שהתקבל מחיל האוויר"
   ]
  },
  {
   "cell_type": "code",
   "execution_count": null,
   "metadata": {},
   "outputs": [],
   "source": []
  },
  {
   "cell_type": "markdown",
   "metadata": {
    "direction": "rtl"
   },
   "source": [
    "#### 3.3.2 בדיקה וטיפול בערכים חסרים"
   ]
  },
  {
   "cell_type": "code",
   "execution_count": null,
   "metadata": {},
   "outputs": [],
   "source": []
  },
  {
   "cell_type": "markdown",
   "metadata": {
    "direction": "rtl"
   },
   "source": [
    "#### 3.3.3 עיצוב ה-Dataset ושמירתו"
   ]
  },
  {
   "cell_type": "code",
   "execution_count": null,
   "metadata": {},
   "outputs": [],
   "source": []
  },
  {
   "cell_type": "markdown",
   "metadata": {
    "direction": "rtl"
   },
   "source": [
    "### Dataset 3.4 נתונים מטארולוגיים"
   ]
  },
  {
   "cell_type": "markdown",
   "metadata": {
    "direction": "rtl"
   },
   "source": [
    "#### 3.4.1 שאיבת נתונים משרת IMS"
   ]
  },
  {
   "cell_type": "code",
   "execution_count": 277,
   "metadata": {},
   "outputs": [],
   "source": [
    "# Prepare a list of tuples - Station's name and id.\n",
    "stations_list = [('SEDE BOQER', 98),\n",
    "                 ('EZUZ', 338),\n",
    "                 ('PARAN', 207),\n",
    "                 ('HAZEVA', 33),\n",
    "                 ('BESOR FARM', 58),\n",
    "                 ('DOROT', 79),\n",
    "                 ('ASHQELON PORT', 208),\n",
    "                 ('NEOT SMADAR', 232),\n",
    "                 ('SEDOM', 65),\n",
    "                 ('ARAD', 29),\n",
    "                 ('EN GEDI', 211),\n",
    "                 ('METZOKE DRAGOT', 210),\n",
    "                 ('NETIV HALAMED HE', 25),\n",
    "                 ('ASHDOD PORT', 124),\n",
    "                 ('MAALE GILBOA', 224),\n",
    "                 ('HADERA PORT', 46),\n",
    "                 ('ZIKHRON YAAQOV', 45),\n",
    "                 ('EN KARMEL', 44),\n",
    "                 ('HAIFA UNIVERSITY', 42),\n",
    "                 ('NEWE YAAR', 186),\n",
    "                 ('YAVNEEL', 11), \n",
    "                 ('GAMLA', 227),\n",
    "                 ('MEROM GOLAN PICMAN', 10),\n",
    "                 ('DAFNA', 348),\n",
    "                 ('ELON', 73),\n",
    "                 ('ESHHAR', 205), \n",
    "                 ('ZEFAT HAR KENAAN', 62)]\n",
    "\n",
    "# Select dates to retrive from.\n",
    "dates_to_retrive_from = [(\"2018/01/01\",\"2018/03/31\"), (\"2018/07/01\",\"2018/09/30\")]"
   ]
  },
  {
   "cell_type": "code",
   "execution_count": 286,
   "metadata": {},
   "outputs": [
    {
     "name": "stdout",
     "output_type": "stream",
     "text": [
      "Retrive 2018/01/01 to 2018/03/31 data..\n",
      "Succefully rertived SEDE BOQER meterological data from IMS server..\n",
      "Succefully rertived EZUZ meterological data from IMS server..\n",
      "Succefully rertived PARAN meterological data from IMS server..\n",
      "Succefully rertived HAZEVA meterological data from IMS server..\n",
      "Succefully rertived BESOR FARM meterological data from IMS server..\n",
      "Succefully rertived DOROT meterological data from IMS server..\n",
      "Succefully rertived ASHQELON PORT meterological data from IMS server..\n",
      "Succefully rertived NEOT SMADAR meterological data from IMS server..\n",
      "Succefully rertived SEDOM meterological data from IMS server..\n",
      "Succefully rertived ARAD meterological data from IMS server..\n",
      "Succefully rertived EN GEDI meterological data from IMS server..\n",
      "Succefully rertived METZOKE DRAGOT meterological data from IMS server..\n",
      "Succefully rertived NETIV HALAMED HE meterological data from IMS server..\n",
      "Succefully rertived ASHDOD PORT meterological data from IMS server..\n",
      "Succefully rertived MAALE GILBOA meterological data from IMS server..\n",
      "Succefully rertived HADERA PORT meterological data from IMS server..\n",
      "Succefully rertived ZIKHRON YAAQOV meterological data from IMS server..\n",
      "Succefully rertived EN KARMEL meterological data from IMS server..\n",
      "Succefully rertived HAIFA UNIVERSITY meterological data from IMS server..\n",
      "Succefully rertived NEWE YAAR meterological data from IMS server..\n",
      "Succefully rertived YAVNEEL meterological data from IMS server..\n",
      "Succefully rertived GAMLA meterological data from IMS server..\n",
      "Succefully rertived MEROM GOLAN PICMAN meterological data from IMS server..\n",
      "Succefully rertived DAFNA meterological data from IMS server..\n",
      "Succefully rertived ELON meterological data from IMS server..\n",
      "Succefully rertived ESHHAR meterological data from IMS server..\n",
      "Succefully rertived ZEFAT HAR KENAAN meterological data from IMS server..\n",
      "Retrive 2018/07/01 to 2018/09/30 data..\n",
      "Succefully rertived SEDE BOQER meterological data from IMS server..\n",
      "Succefully rertived EZUZ meterological data from IMS server..\n",
      "Succefully rertived PARAN meterological data from IMS server..\n",
      "Succefully rertived HAZEVA meterological data from IMS server..\n",
      "Succefully rertived BESOR FARM meterological data from IMS server..\n",
      "Succefully rertived DOROT meterological data from IMS server..\n",
      "Succefully rertived ASHQELON PORT meterological data from IMS server..\n",
      "Succefully rertived NEOT SMADAR meterological data from IMS server..\n",
      "Succefully rertived SEDOM meterological data from IMS server..\n",
      "Succefully rertived ARAD meterological data from IMS server..\n",
      "Succefully rertived EN GEDI meterological data from IMS server..\n",
      "Succefully rertived METZOKE DRAGOT meterological data from IMS server..\n",
      "Succefully rertived NETIV HALAMED HE meterological data from IMS server..\n",
      "Succefully rertived ASHDOD PORT meterological data from IMS server..\n",
      "Succefully rertived MAALE GILBOA meterological data from IMS server..\n",
      "Succefully rertived HADERA PORT meterological data from IMS server..\n",
      "Succefully rertived ZIKHRON YAAQOV meterological data from IMS server..\n",
      "Succefully rertived EN KARMEL meterological data from IMS server..\n",
      "Succefully rertived HAIFA UNIVERSITY meterological data from IMS server..\n",
      "Succefully rertived NEWE YAAR meterological data from IMS server..\n",
      "Succefully rertived YAVNEEL meterological data from IMS server..\n",
      "Succefully rertived GAMLA meterological data from IMS server..\n",
      "Succefully rertived MEROM GOLAN PICMAN meterological data from IMS server..\n",
      "Succefully rertived DAFNA meterological data from IMS server..\n",
      "Succefully rertived ELON meterological data from IMS server..\n",
      "Succefully rertived ESHHAR meterological data from IMS server..\n",
      "Succefully rertived ZEFAT HAR KENAAN meterological data from IMS server..\n"
     ]
    }
   ],
   "source": [
    "import json\n",
    "import requests\n",
    "import pandas as pd\n",
    "\n",
    "# Use unique token recived from the IMS to retrive data.\n",
    "headers = {'Authorization': 'ApiToken f058958a-d8bd-47cc-95d7-7ecf98610e47'}\n",
    "\n",
    "# Fill the observations list.\n",
    "observations_list = []\n",
    "\n",
    "# Retrive data for the selcted dates.\n",
    "for date in dates_to_retrive_from:\n",
    "    print(\"Retrive {} to {} data..\".format(date[0], date[1]))\n",
    "    # Retrive data for every station within the stations list.\n",
    "    for station in stations_list:\n",
    "        url = \"https://api.ims.gov.il/v1/envista/stations/{}/data?from={}&to={}\".format(station[1], date[0], date[1])\n",
    "        # Get JSON from IMS server.\n",
    "        response = requests.request(\"GET\", url, headers=headers)\n",
    "        if response.status_code == requests.codes.ok:\n",
    "            data = json.loads(response.text.encode('utf8'))\n",
    "            # Print to console.\n",
    "            print(\"Succefully rertived {} meterological data from IMS server..\".format(station[0]))\n",
    "        else:\n",
    "            print(\"\\x1b[31mRequest returned with a fault. Can't retrive {} data from IMS server..\\x1b[0m\".format(station[0]))\n",
    "        # Travel through the JSON to extract the desired features.\n",
    "        for record in data['data']:\n",
    "            single_observation = {'Time': pd.to_datetime(record['datetime']), 'Station Name': station[0]}\n",
    "            for channel in record['channels']:\n",
    "                if channel['name'] == 'Rain':\n",
    "                    single_observation['Rain'] = channel['value']\n",
    "                elif channel['name'] == 'RH':\n",
    "                    single_observation['Humidity'] = channel['value']\n",
    "                elif channel['name'] == 'TD':\n",
    "                    single_observation['Temperature'] = channel['value']\n",
    "                elif channel['name'] == 'WD':\n",
    "                    single_observation['Wind Direction'] = channel['value']\n",
    "                elif channel['name'] == 'WS':\n",
    "                    single_observation['Wind Speed'] = channel['value']\n",
    "            observations_list.append(single_observation)\n",
    "\n",
    "# Create new DataFrame to keep the meterological data.\n",
    "meterological_df = pd.DataFrame(observations_list)"
   ]
  },
  {
   "cell_type": "markdown",
   "metadata": {
    "direction": "rtl"
   },
   "source": [
    "#### 3.4.2 בדיקה וטיפול בערכים חסרים"
   ]
  },
  {
   "cell_type": "code",
   "execution_count": 287,
   "metadata": {},
   "outputs": [
    {
     "data": {
      "text/plain": [
       "0"
      ]
     },
     "execution_count": 287,
     "metadata": {},
     "output_type": "execute_result"
    }
   ],
   "source": [
    "# Make sure we are not missing any data.\n",
    "meterological_df.isna().sum().sum()"
   ]
  },
  {
   "cell_type": "markdown",
   "metadata": {
    "direction": "rtl"
   },
   "source": [
    "#### 3.4.3 עיצוב ה-Dataset ושמירתו"
   ]
  },
  {
   "cell_type": "code",
   "execution_count": 288,
   "metadata": {},
   "outputs": [],
   "source": [
    "# Convert Time column to datetimeIndex object, to allow Grouper with frequency opeartors.\n",
    "meterological_df.Time = pd.to_datetime(meterological_df.Time, utc=True)\n",
    "\n",
    "# Group by Stations and Time, while changing the time resolution to hours.\n",
    "meterological_df = meterological_df.groupby([pd.Grouper(key='Station Name'), pd.Grouper(freq='H', key='Time')]).agg(\n",
    "    {'Rain': \"sum\",\n",
    "     'Wind Speed': \"mean\", \n",
    "     'Wind Direction': 'mean',\n",
    "     'Temperature': \"mean\",\n",
    "     'Humidity': \"mean\"})"
   ]
  },
  {
   "cell_type": "code",
   "execution_count": 289,
   "metadata": {},
   "outputs": [],
   "source": [
    "meterological_df.to_csv(\"meterological_dataset_2018.csv\")"
   ]
  },
  {
   "cell_type": "markdown",
   "metadata": {
    "direction": "rtl"
   },
   "source": [
    "## 4. תוצאות ודיון"
   ]
  },
  {
   "cell_type": "markdown",
   "metadata": {
    "direction": "rtl"
   },
   "source": [
    "דיון וניתוח התוצאות יבוצע ברצף להצגת התוצאות עבור כל תת סעיף כמתואר מטה."
   ]
  },
  {
   "cell_type": "markdown",
   "metadata": {
    "direction": "rtl"
   },
   "source": [
    "### EDA 4.1"
   ]
  },
  {
   "cell_type": "markdown",
   "metadata": {
    "direction": "rtl"
   },
   "source": [
    "### 4.1.1 חקר תקלות כללי"
   ]
  },
  {
   "cell_type": "markdown",
   "metadata": {
    "direction": "rtl"
   },
   "source": [
    "#### Bar Chart להצגת כמות התקלות וסוגן (בחינה דו שנתית)"
   ]
  },
  {
   "cell_type": "markdown",
   "metadata": {
    "direction": "rtl"
   },
   "source": [
    "#### Bar Chart להצגת כמות התקלות לפי מספר זנב (בחינה דו שנתית)"
   ]
  },
  {
   "cell_type": "markdown",
   "metadata": {
    "direction": "rtl"
   },
   "source": [
    "#### Bar Chart להצגת כמות התקלות הממוצעת לשעת טיסה לפי מספר זנב (בחינה דו שנתית)"
   ]
  },
  {
   "cell_type": "markdown",
   "metadata": {
    "direction": "rtl"
   },
   "source": [
    "#### Bar Chart להצגת כמות התקלות הממוצעת לשעת חנייה לפי מספר זנב (בחינה דו שנתית)"
   ]
  },
  {
   "cell_type": "markdown",
   "metadata": {
    "direction": "rtl"
   },
   "source": [
    "#### הצגה טבלאית של זמן ממוצע בין פתיחת תקלות בחלוקה למספרי זנב (בחינה דו שנתית)"
   ]
  },
  {
   "cell_type": "markdown",
   "metadata": {
    "direction": "rtl"
   },
   "source": [
    "#### Pie Chart להצגת חלוקת שעות הטיסה לפי מספר זנב (בחינה דו שנתית)"
   ]
  },
  {
   "cell_type": "markdown",
   "metadata": {
    "direction": "rtl"
   },
   "source": [
    "#### Heat Map להצגת סוג תקלות לפי מספר זנב (בחינה דו שנתית)"
   ]
  },
  {
   "cell_type": "markdown",
   "metadata": {
    "direction": "rtl"
   },
   "source": [
    "#### דיון וניתוח השונות בתוצאות בין מספרי זנב שונים"
   ]
  },
  {
   "cell_type": "markdown",
   "metadata": {
    "direction": "rtl"
   },
   "source": [
    "#### Bar Chart להצגת כמות התקלות לפי סוג משתמש (בחינה דו שנתית)"
   ]
  },
  {
   "cell_type": "markdown",
   "metadata": {
    "direction": "rtl"
   },
   "source": [
    "#### Nested Pie Chart להצגת סוג וכמות התקלות הלא מאומתות (בחינה דו שנתית)"
   ]
  },
  {
   "cell_type": "markdown",
   "metadata": {
    "direction": "rtl"
   },
   "source": [
    "#### Nested Pie Chart להצגת סוג וכמות תקלות שנפתחו ע\"י טייס (בחינה דו שנתית)"
   ]
  },
  {
   "cell_type": "markdown",
   "metadata": {
    "direction": "rtl"
   },
   "source": [
    "#### Scatter Plot להצגת כמות התקלות לפי זמן ממוצע (בשעות) בין טיסות (בחינה דו שנתית)"
   ]
  },
  {
   "cell_type": "markdown",
   "metadata": {
    "direction": "rtl"
   },
   "source": [
    "#### Bar Chart להצגת כמות וסוג התקלות לפי מקום חנייה (בחינה דו שנתית)"
   ]
  },
  {
   "cell_type": "markdown",
   "metadata": {
    "direction": "rtl"
   },
   "source": [
    "#### הצגה טבלאית של משך זמן סגירת תקלות (בשעות) לפי מקצוע ולפי מקום חנייה"
   ]
  },
  {
   "cell_type": "markdown",
   "metadata": {
    "direction": "rtl"
   },
   "source": [
    "#### הצגה טבלאית של זמן ממוצע (בשעות) בין פתיחת תקלות לפי מקום חנייה"
   ]
  },
  {
   "cell_type": "markdown",
   "metadata": {
    "direction": "rtl"
   },
   "source": [
    "### 4.1.2 חקר תקלות כתלות במשתני מזג האוויר"
   ]
  },
  {
   "cell_type": "markdown",
   "metadata": {
    "direction": "rtl"
   },
   "source": [
    "### 4.1.2.1 היכרות עם משתני מזג האוויר"
   ]
  },
  {
   "cell_type": "markdown",
   "metadata": {
    "direction": "rtl"
   },
   "source": [
    "#### הצגה טבלאית של מספר ימי הגשם לפי חודשים (בחינה דו שנתית)"
   ]
  },
  {
   "cell_type": "markdown",
   "metadata": {
    "direction": "rtl"
   },
   "source": [
    "#### הצגה טבלאית של כמות הגשם לפי מקום חנייה על פני חודשי השנה (בחינה דו שנתית)"
   ]
  },
  {
   "cell_type": "markdown",
   "metadata": {
    "direction": "rtl"
   },
   "source": [
    "#### הצגה טבלאית של ממוצע הטמפ' על פני חודשי השנה (בחינה דו שנתית)"
   ]
  },
  {
   "cell_type": "markdown",
   "metadata": {
    "direction": "rtl"
   },
   "source": [
    "#### הצגה טבלאית של קרינה גלובלית ממוצעת על פני חודשי השנה (בחינה דו שנתית)"
   ]
  },
  {
   "cell_type": "markdown",
   "metadata": {
    "direction": "rtl"
   },
   "source": [
    "#### הצגה טבלאית של לחות ממוצעת לפי 5 חלונות זמן ביום לאורך חודשי השנה (בחינה דו שנתית)"
   ]
  },
  {
   "cell_type": "markdown",
   "metadata": {
    "direction": "rtl"
   },
   "source": [
    "### 4.1.2.2 ניתוח השפעה בהינתן חנייה סטטית"
   ]
  },
  {
   "cell_type": "markdown",
   "metadata": {
    "direction": "rtl"
   },
   "source": [
    "#### Jointgrid עבור מ\"מ גשם ותקלות (בחינה דו שנתית)"
   ]
  },
  {
   "cell_type": "markdown",
   "metadata": {
    "direction": "rtl"
   },
   "source": [
    "#### Jointgrid עבור מעלות צלזיוס ותקלות (בחינה דו שנתית)"
   ]
  },
  {
   "cell_type": "markdown",
   "metadata": {
    "direction": "rtl"
   },
   "source": [
    "#### Jointgrid עבור קרינה גלובלית ותקלות (בחינה דו שנתית)"
   ]
  },
  {
   "cell_type": "markdown",
   "metadata": {
    "direction": "rtl"
   },
   "source": [
    "#### Jointgrid עבור רוח ממוצעת (בחלוקה לרוח מזרחית ומערבית) ותקלות (בחינה דו שנתית) "
   ]
  },
  {
   "cell_type": "markdown",
   "metadata": {
    "direction": "rtl"
   },
   "source": [
    "#### Heat Map של סוג התקלות לפי מעלות צלזיוס (בחינה דו שנתית)"
   ]
  },
  {
   "cell_type": "markdown",
   "metadata": {
    "direction": "rtl"
   },
   "source": [
    "#### Heat Map של סוג התקלות לפי מ\"מ גשם (בחינה דו שנתית)"
   ]
  },
  {
   "cell_type": "markdown",
   "metadata": {
    "direction": "rtl"
   },
   "source": [
    "#### Heat Map של סוג התקלות לפי מדד קרינה גלובלי (בחינה דו שנתית)"
   ]
  },
  {
   "cell_type": "markdown",
   "metadata": {
    "direction": "rtl"
   },
   "source": [
    "#### Heat Map של סוג התקלות לפי ממוצע אחוזי לחות (בחינה דו שנתית)"
   ]
  },
  {
   "cell_type": "markdown",
   "metadata": {
    "direction": "rtl"
   },
   "source": [
    "#### Swarm Plot עבור טמפ', גשם, רוח, קרינה גלובלית, ולחות לטובת בחינת יכולת הקלסיפיקציה לפי משתנים אלו"
   ]
  },
  {
   "cell_type": "markdown",
   "metadata": {
    "direction": "rtl"
   },
   "source": [
    "#### Scatter Matrix לבחינת מתאם בין משתני מזג אוויר שונים"
   ]
  },
  {
   "cell_type": "markdown",
   "metadata": {
    "direction": "rtl"
   },
   "source": [
    "### 4.1.2.3 ניתוח השפעה במהלך ולאחר טיסה"
   ]
  },
  {
   "cell_type": "markdown",
   "metadata": {
    "direction": "rtl"
   },
   "source": [
    "#### Jointgrid עבור מ\"מ גשם ותקלות (בחינה דו שנתית)"
   ]
  },
  {
   "cell_type": "markdown",
   "metadata": {
    "direction": "rtl"
   },
   "source": [
    "#### Jointgrid עבור מעלות צלזיוס ותקלות (בחינה דו שנתית)"
   ]
  },
  {
   "cell_type": "markdown",
   "metadata": {
    "direction": "rtl"
   },
   "source": [
    "#### Jointgrid עבור קרינה גלובלית ותקלות (בחינה דו שנתית)"
   ]
  },
  {
   "cell_type": "markdown",
   "metadata": {
    "direction": "rtl"
   },
   "source": [
    "#### Jointgrid עבור רוח ממוצעת (בחלוקה לרוח מזרחית ומערבית) ותקלות (בחינה דו שנתית) "
   ]
  },
  {
   "cell_type": "markdown",
   "metadata": {
    "direction": "rtl"
   },
   "source": [
    "#### Heat Map של סוג התקלות לפי מעלות צלזיוס (בחינה דו שנתית)"
   ]
  },
  {
   "cell_type": "markdown",
   "metadata": {
    "direction": "rtl"
   },
   "source": [
    "#### Heat Map של סוג התקלות לפי מ\"מ גשם (בחינה דו שנתית)"
   ]
  },
  {
   "cell_type": "markdown",
   "metadata": {
    "direction": "rtl"
   },
   "source": [
    "#### Heat Map של סוג התקלות לפי מדד קרינה גלובלי (בחינה דו שנתית)"
   ]
  },
  {
   "cell_type": "markdown",
   "metadata": {
    "direction": "rtl"
   },
   "source": [
    "#### Heat Map של סוג התקלות לפי ממוצע אחוזי לחות (בחינה דו שנתית)"
   ]
  },
  {
   "cell_type": "markdown",
   "metadata": {
    "direction": "rtl"
   },
   "source": [
    "#### Swarm Plot עבור טמפ', גשם, רוח, קרינה גלובלית, ולחות לטובת בחינת יכולת הקלסיפיקציה לפי משתנים אלו"
   ]
  },
  {
   "cell_type": "markdown",
   "metadata": {
    "direction": "rtl"
   },
   "source": [
    "#### Scatter Matrix לבחינת מתאם בין משתני מזג אוויר שונים"
   ]
  },
  {
   "cell_type": "markdown",
   "metadata": {
    "direction": "rtl"
   },
   "source": [
    "### 4.1.2.4 חקר תקלות כתלות במבנה שבועי (מועדי אחזקה וטיסות)"
   ]
  },
  {
   "cell_type": "markdown",
   "metadata": {
    "direction": "rtl"
   },
   "source": [
    "#### Discrete Distribution as Horizontal Bar Chart עבור סוג התקלות לפי ימות השבוע (בחינה דו שנתית)"
   ]
  },
  {
   "cell_type": "markdown",
   "metadata": {
    "direction": "rtl"
   },
   "source": [
    "### 4.2 ניתוח קשרי גומלין בין מסוקים"
   ]
  },
  {
   "cell_type": "markdown",
   "metadata": {
    "direction": "rtl"
   },
   "source": [
    "#### 4.2.1 הכנת ה-Datasets"
   ]
  },
  {
   "cell_type": "markdown",
   "metadata": {
    "direction": "rtl"
   },
   "source": [
    "#### 4.2.2 בניית רשת דו צדדית לתיאור קשר בין מסוקים (מספרי זנב) ותקלות שנפתחו ע\"י טייס באמצעות NetworkX"
   ]
  },
  {
   "cell_type": "markdown",
   "metadata": {
    "direction": "rtl"
   },
   "source": [
    "#### 4.2.3 הטלה ממושקלת (לפי תקנון שעות טיסה לסוג תקלה) של הרשת הדו צדדית שנבנתה למציאת קשרים בין מסוקים באמצעות NetworkX"
   ]
  },
  {
   "cell_type": "markdown",
   "metadata": {
    "direction": "rtl"
   },
   "source": [
    "#### 4.2.4 דיון על הקשרים לעיל שימצאו, תוך ניסיון לקשור בין אוכלוסיות מסוקים שונות, לטובת בירור נוסף ועתידי (שלא במסגרת עבודה זו) "
   ]
  },
  {
   "cell_type": "markdown",
   "metadata": {
    "direction": "rtl"
   },
   "source": [
    "### 4.3 בחינת השפעת המבנה השבועי על כמות וסוג התקלות"
   ]
  },
  {
   "cell_type": "markdown",
   "metadata": {
    "direction": "rtl"
   },
   "source": [
    "#### 4.3.1 ביצוע Clustering של שבועות טיסה בעלי מועדי טיסות דומים (זמני המראה) באמצעות K-means Clustering"
   ]
  },
  {
   "cell_type": "markdown",
   "metadata": {
    "direction": "rtl"
   },
   "source": [
    "#### 4.3.2 ביצוע Clustering של שבועות טיסה בעלי מועדי טיסות דומים (זמני המראה) באמצעות Gaussian Mixture Model"
   ]
  },
  {
   "cell_type": "markdown",
   "metadata": {
    "direction": "rtl"
   },
   "source": [
    "#### 4.3.3 השוואת ביצועי המודלים לעיל, וקיום דיון על מחלקות המבנה השבועי שהוסקו"
   ]
  },
  {
   "cell_type": "markdown",
   "metadata": {
    "direction": "rtl"
   },
   "source": [
    "#### 4.3.3 הצגת שעות הטיסה הממוצעות כמו גם נתונים סטטיסטיים נוספים, עבור מחלקות מבנה שבועי שהוסקו לעיל"
   ]
  },
  {
   "cell_type": "markdown",
   "metadata": {
    "direction": "rtl"
   },
   "source": [
    "#### 4.3.4 הצגת Discrete Distribution as Horizontal Bar Chart עבור סוגי התקלות לפי מחלקות המבנה השבועי שהוסקו לעיל"
   ]
  },
  {
   "cell_type": "markdown",
   "metadata": {
    "direction": "rtl"
   },
   "source": [
    "#### 4.3.5 הצגת ממוצע משך זמן סגירת תקלות לפי מחלקות המבנה השבועי שהוסקו לעיל"
   ]
  },
  {
   "cell_type": "markdown",
   "metadata": {
    "direction": "rtl"
   },
   "source": [
    "#### 4.3.6.\tדיון על מבנה שבועי מומלץ, לאור הנתונים לעיל, ובהתייחס לשקלול פרמטרים איכותיים נוספים עליהם יורחב בכתב "
   ]
  },
  {
   "cell_type": "markdown",
   "metadata": {
    "direction": "rtl"
   },
   "source": [
    "### 4.4 בניית מודל סיווג תקלות לפי משתני מזג האוויר (חנייה)"
   ]
  },
  {
   "cell_type": "markdown",
   "metadata": {
    "direction": "rtl"
   },
   "source": [
    "#### 4.4.1 הכנת ה-Datasets"
   ]
  },
  {
   "cell_type": "markdown",
   "metadata": {
    "direction": "rtl"
   },
   "source": [
    "#### 4.4.2 בחירת המשתנים הבלתי תלויים ומחלקות התקלות של המשתנה התלוי, בהסתמך על שלב ה-EDA"
   ]
  },
  {
   "cell_type": "markdown",
   "metadata": {
    "direction": "rtl"
   },
   "source": [
    "#### 4.4.3 בניית מודל באמצעות KNN והערכת ביצועיו"
   ]
  },
  {
   "cell_type": "markdown",
   "metadata": {
    "direction": "rtl"
   },
   "source": [
    "#### 4.4.4 בניית מודל באמצעות Logistic Regression והערכת ביצועיו"
   ]
  },
  {
   "cell_type": "markdown",
   "metadata": {
    "direction": "rtl"
   },
   "source": [
    "#### 4.4.5 בניית מודל באמצעות Navie Bayes והערכת ביצועיו"
   ]
  },
  {
   "cell_type": "markdown",
   "metadata": {
    "direction": "rtl"
   },
   "source": [
    "#### 4.4.6 בניית מודל באמצעות Random Forest והערכת ביצועיו"
   ]
  },
  {
   "cell_type": "markdown",
   "metadata": {
    "direction": "rtl"
   },
   "source": [
    "#### 4.4.7 ביצוע Stacking של מודלים שונים (במידת הצורך)"
   ]
  },
  {
   "cell_type": "markdown",
   "metadata": {
    "direction": "rtl"
   },
   "source": [
    "#### 4.4.8 דיון על ביצועי המודלים השונים ובחירת המודל שהציג את הביצועים הטובים ביותר"
   ]
  },
  {
   "cell_type": "markdown",
   "metadata": {
    "direction": "rtl"
   },
   "source": [
    "### 4.5 בניית מודל סיווג תקלות לפי משתני מזג האוויר (תו\"כ או לאחר טיסות)"
   ]
  },
  {
   "cell_type": "markdown",
   "metadata": {
    "direction": "rtl"
   },
   "source": [
    "#### 4.5.1 הכנת ה-Datasets"
   ]
  },
  {
   "cell_type": "markdown",
   "metadata": {
    "direction": "rtl"
   },
   "source": [
    "#### 4.5.2 בחירת המשתנים הבלתי תלויים ומחלקות התקלות של המשתנה התלוי, בהסתמך על שלב ה-EDA"
   ]
  },
  {
   "cell_type": "markdown",
   "metadata": {
    "direction": "rtl"
   },
   "source": [
    "#### 4.5.3 בניית מודל באמצעות KNN והערכת ביצועיו"
   ]
  },
  {
   "cell_type": "markdown",
   "metadata": {
    "direction": "rtl"
   },
   "source": [
    "#### 4.5.4 בניית מודל באמצעות Logistic Regression והערכת ביצועיו"
   ]
  },
  {
   "cell_type": "markdown",
   "metadata": {
    "direction": "rtl"
   },
   "source": [
    "#### 4.5.5 בניית מודל באמצעות Navie Bayes והערכת ביצועיו"
   ]
  },
  {
   "cell_type": "markdown",
   "metadata": {
    "direction": "rtl"
   },
   "source": [
    "#### 4.5.6 בניית מודל באמצעות Random Forest והערכת ביצועיו"
   ]
  },
  {
   "cell_type": "markdown",
   "metadata": {
    "direction": "rtl"
   },
   "source": [
    "#### 4.5.7 ביצוע Stacking של מודלים שונים (במידת הצורך)"
   ]
  },
  {
   "cell_type": "markdown",
   "metadata": {
    "direction": "rtl"
   },
   "source": [
    "#### 4.5.8 דיון על ביצועי המודלים השונים ובחירת המודל שהציג את הביצועים הטובים ביותר"
   ]
  },
  {
   "cell_type": "markdown",
   "metadata": {
    "direction": "rtl"
   },
   "source": [
    "### 4.6 דיון על קשרי הגומלין (באם קיימים) בין תקלות לפי משתני מזג אוויר בעת חנייה / טיסה"
   ]
  },
  {
   "cell_type": "markdown",
   "metadata": {
    "direction": "rtl"
   },
   "source": [
    "## 5. מסקנות"
   ]
  }
 ],
 "metadata": {
  "kernelspec": {
   "display_name": "Python 3",
   "language": "python",
   "name": "python3"
  },
  "language_info": {
   "codemirror_mode": {
    "name": "ipython",
    "version": 3
   },
   "file_extension": ".py",
   "mimetype": "text/x-python",
   "name": "python",
   "nbconvert_exporter": "python",
   "pygments_lexer": "ipython3",
   "version": "3.8.5"
  }
 },
 "nbformat": 4,
 "nbformat_minor": 4
}
