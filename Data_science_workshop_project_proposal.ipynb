{
 "cells": [
  {
   "cell_type": "markdown",
   "metadata": {
    "direction": "ltr"
   },
   "source": [
    "# Data Science Workshop - Project Proposal"
   ]
  },
  {
   "cell_type": "markdown",
   "metadata": {
    "direction": "ltr"
   },
   "source": [
    "## Student's Details"
   ]
  },
  {
   "cell_type": "markdown",
   "metadata": {
    "direction": "ltr"
   },
   "source": [
    "* First name: Elron\n",
    "* Last name: Tvizer\n",
    "* Identification number: 301801346"
   ]
  },
  {
   "cell_type": "markdown",
   "metadata": {
    "direction": "ltr"
   },
   "source": [
    "## Project's Goals"
   ]
  },
  {
   "cell_type": "markdown",
   "metadata": {
    "direction": "ltr"
   },
   "source": [
    "This project is meant to help an Israeli Air Force helicopters squadron to improve its maintenance and planning processes, to reduce the overall number of helicopters' malfunctions, as well as improve the response time of handling a malfunction. \n",
    "\n",
    "It is well believed for some time that weather phenomena have great impact of the helicopters serviceability, thus this project intends to clarify this assumption. \n",
    "\n",
    "Furthermore, it is meant to provide insights about the recommended weekly training flights plan, which determines the schedule of the maintenance routines, something which may contribute to increase the availability of helicopters, thus increasing the squadron's flexibility to train its pilots. \n",
    "\n",
    "I will seek to perform the above by analysing and extracting insights from the data provided by the Israeli Air Force, as well as by building a regression model for classifying malfunctions based on different weather features, extracted from the Israeli Meteorological Service servers.\n",
    "\n",
    "**Thus, the high-level goals of this project are:**\n",
    "\n",
    "* Conduct an analysis of various aspects of the malfunctions data provided, with respect to the squadron's two main working locations (Ramon Air Force Base and Ramat David Air Force Base).\n",
    "* Conduct an analysis to conclude the various weekly training flight plans implemented (as projected by the data provided by the Israeli Air Force), then analysing its effect on malfunctions' amount and type, in favour of improving the squadron's work.\n",
    "* Build a regression model for classifying malfunctions, given the input of independent weather variables (on ground).\n",
    "* Build a regression model for classifying malfunctions, given the input of independent weather variables (during or after training flights)."
   ]
  },
  {
   "cell_type": "markdown",
   "metadata": {
    "direction": "ltr"
   },
   "source": [
    "## Motivation"
   ]
  },
  {
   "cell_type": "markdown",
   "metadata": {
    "direction": "ltr"
   },
   "source": [
    "Attached is an official request signed by the Squadron's Deputy Commander, requesting to carry out the aforementioned analysis work and recommendations (for the part concerning weather damage impacts):"
   ]
  },
  {
   "cell_type": "markdown",
   "metadata": {},
   "source": [
    "![IAF_Request](images/IAF_Request.jpg)"
   ]
  },
  {
   "cell_type": "markdown",
   "metadata": {
    "direction": "ltr"
   },
   "source": [
    "Personally, as an active reserve officer in the squadron, and as having previously performed a commanding role thus aware of the weighty implications of the relatively low serviceability percentages of the squadron's helicopters, I find a great interest in contributing to this kind of analysis and classification work. \n",
    "\n",
    "As stated in the official request, no analysis of the provided malfunctions data is currently being performed, other than calculations of consequential statistics, which do not help make data-driven decisions (examples for the calculated statistics: average time between malfunctions, percentage of serviceability (i.e. the total number of helicopters available for flight each morning), etc.). Moreover, various decisions regarding helicopters' spare parts, and the presence of various maintenance professions personnel in the heliport (i.e. where helicopters are parked) are a result of rules of thumb, and \"gut feelings\", thus not knowledge-based.\n",
    "\n",
    "Many times in the past the weekly flights plan has changed. As mentioned, the weekly flights plan dictates the squadron's progression in training plan, and involves many resources and constraints (for example: meeting the maintenance routines, allocating the required training resources - flight areas, etc.). A work which connects the serviceability of the squadron's helicopters and the weekly flights plan has been conducted in the past, albeit in a non-comprehensive and inclusive manner (based on a small number of samples, and without a specific reference to the malfunctions issue). In this work I would like to reveal the impacts of the weekly flights plan on the malfunctions amount and type, thus allowing a better decision to be taken.\n",
    "\n",
    "Another important feature of a helicopter is it being able to flight under difficult weather conditions. The squadron's helicopters are capable and required to perform theirs missions in the presence of a hard weather. However, increased number of malfunctions, may reduce the helicopters' serviceability for carrying out these and other missions. A decision for having flights under difficult weather conditions on purpose, may increase the risk factors for specific types of malfunctions. Thus, having this knowledge may spur the squadron's personnel to make some improvements meant to handle these increased risk factors wisely (for example: manufacturing a dedicated sealing components, changing the flight areas real-time, etc.).\n",
    "\n",
    "Squadron's operations on ground during various weather conditions, is another significant issue. As stated in the official request - the helicopters are routinely parked outdoors (unlike other aircrafts), and therefore are more exposed to weather damage - wind, rain, extreme temperatures (heat or cold), humidity and radiation. Some equipment may be in use, if it turns out that these weather damages are causing a great increase in the amount of malfunctions.\n",
    "\n",
    "**To summarize, these are the general and personal motivations for carrying out this project:**\n",
    "* This project may contribute to increase the serviceability of the squadron's helicopters, by providing concrete recommendations for adjusting maintenance processes and flight planning.\n",
    "* This contribution is translated into a better and more accurate utilization of the Israeli taxpayer's money, by increasing the availability of helicopters for flights, instead of being grounded.\n",
    "* A personal desire to promote an issue that has greatly influenced, and still affects, the service experience of many others and mine.\n",
    "* Proof of concept of performing such analysis work, outside the Air Force, allowing additional squadrons taking the same road. This may also allow further un-classified data to be analyzed outside the Air Force, offering an outsourced way of doing these kind of jobs."
   ]
  },
  {
   "cell_type": "markdown",
   "metadata": {
    "direction": "ltr"
   },
   "source": [
    "## Domain-specifc Background"
   ]
  },
  {
   "cell_type": "markdown",
   "metadata": {
    "direction": "ltr"
   },
   "source": [
    "### Technical Departments"
   ]
  },
  {
   "cell_type": "markdown",
   "metadata": {
    "direction": "ltr"
   },
   "source": [
    "Helicopter’s maintenance routines are being performed by different technical departments:\n",
    "\n",
    "* **Class A** - Under the squadron's chain of command, this department is responsible for the weekly and daily maintenance routines. This department is divided into different teams, each of which is responsible for a different technical domain. In addition, this department personnel are present on site (heliport).\n",
    "\n",
    "\n",
    "* **Class B** - Under the base chain of command, this department is responsible for crossing-platforms technical domains. This department personnel are also divided into different teams, with respect to a specific technical domain. There is no overlapping between Class A and Class B responsibilities since each of which is responsible for different maintenance aspects and technical fields. This department personnel are not present on site (heliport) and invited upon request, although specific avionic team members are present prior to planned departures (most of the times).\n",
    "\n",
    "\n",
    "* **Class C** - It will not be discussed in this work, as maintenance routines are initiated once every X flight hours, outside of the squadron's authority.\n",
    "\n",
    "\n",
    "* **Class D** - It will not be discussed in this work, as maintenance routines are initiated once every X flight hours, outside of the squadron's authority.\n",
    "\n",
    "\n",
    "**To summarize** - The reported malfunctions that will be reviewed and analyzed during this work are malfunctions that were opened by Class A personnel as well as the squadron's pilots. In addition, these malfunctions are handled and fixed only by Class A and Class B personnel."
   ]
  },
  {
   "cell_type": "markdown",
   "metadata": {
    "direction": "ltr"
   },
   "source": [
    "### Regular Maintenance Routines"
   ]
  },
  {
   "cell_type": "markdown",
   "metadata": {
    "direction": "ltr"
   },
   "source": [
    "* **Weekly routine** - Takes place once every two weeks, or every 25 hours of flight. This is the most comprehensive maintenance routine. For this routine, the examined helicopter stands for a full day (morning to evening) and is not available for flight. During the weekly routine, malfunctions may be discovered that will not be detected in the rest of the maintenance routines, since this routine’s checklist is the most comprehensive one.\n",
    "\n",
    "\n",
    "* **Preflight checking routine** - Takes place before a day of flights. This check is valid for 24 hours or 10 cumulative flight hours (following the check).\n",
    "\n",
    "\n",
    "* **Between flights checking routine** - Takes place between flights. Can be performed up to 5 times within the range of the Preflight check. This routine checklist is shortened comparing to the Preflight checklist. However, the probability of not finding a malfunction during this routine while having it found during the Preflight routine is very low.\n",
    "\n",
    "\n",
    "* **Crews change routine** - This is a much shorter check comparing to the Between flight routine. This check is performed when the helicopter's auxiliary engine is on (i.e. usually when the pilots are being replaced before the helicopter departs for its next flight). After each landing, a Crews change routine is being performed. This routine can be performed up to 5 times within the range of the Preflight check (10 flight hours).\n",
    "\n",
    "\n",
    "* **Strips check** - This is a specific test being performed every 5 hours of flight or every time the auxiliary engine shuts down, categorically. At the end of this check just a specific malfunction can be documented.\n",
    "\n",
    "\n",
    "* **Quick check routine** - This is another version of the Between flights routine. It is being implemented mostly in Ramat David Base."
   ]
  },
  {
   "cell_type": "markdown",
   "metadata": {
    "direction": "ltr"
   },
   "source": [
    "### When Do Malfunctions are being Documented?"
   ]
  },
  {
   "cell_type": "markdown",
   "metadata": {
    "direction": "ltr"
   },
   "source": []
  },
  {
   "cell_type": "markdown",
   "metadata": {
    "direction": "ltr"
   },
   "source": [
    "### Weekly Flights Plan"
   ]
  },
  {
   "cell_type": "markdown",
   "metadata": {
    "direction": "ltr"
   },
   "source": []
  },
  {
   "cell_type": "markdown",
   "metadata": {
    "direction": "ltr"
   },
   "source": [
    "### Squadron's Main Locations"
   ]
  },
  {
   "cell_type": "markdown",
   "metadata": {
    "direction": "ltr"
   },
   "source": []
  },
  {
   "cell_type": "markdown",
   "metadata": {
    "direction": "ltr"
   },
   "source": [
    "## Datasets Intro"
   ]
  },
  {
   "cell_type": "markdown",
   "metadata": {
    "direction": "ltr"
   },
   "source": [
    "During this project I will work with the following four datasets:\n",
    "\n",
    "* Malfunctions Dataset.\n",
    "* Training Sorties Dataset.\n",
    "* Helicopters' Parking Locations Dataset.\n",
    "* Meteorological dataset.\n",
    "\n",
    "In the following sections I will shortly describe each of the above - mainly its origin and characteristics."
   ]
  },
  {
   "cell_type": "markdown",
   "metadata": {
    "direction": "ltr"
   },
   "source": [
    "### Malfunctions Dataset"
   ]
  },
  {
   "cell_type": "markdown",
   "metadata": {
    "direction": "rtl"
   },
   "source": []
  },
  {
   "cell_type": "markdown",
   "metadata": {
    "direction": "ltr"
   },
   "source": [
    "### Training Sorties Dataset"
   ]
  },
  {
   "cell_type": "markdown",
   "metadata": {
    "direction": "ltr"
   },
   "source": []
  },
  {
   "cell_type": "markdown",
   "metadata": {
    "direction": "ltr"
   },
   "source": [
    "### Helicopters' Parking Locations Dataset"
   ]
  },
  {
   "cell_type": "markdown",
   "metadata": {
    "direction": "ltr"
   },
   "source": []
  },
  {
   "cell_type": "markdown",
   "metadata": {
    "direction": "ltr"
   },
   "source": [
    "### Meteorological dataset"
   ]
  },
  {
   "cell_type": "markdown",
   "metadata": {
    "direction": "ltr"
   },
   "source": []
  },
  {
   "cell_type": "markdown",
   "metadata": {
    "direction": "ltr"
   },
   "source": [
    "## Tools and Algorithms to be Used"
   ]
  },
  {
   "cell_type": "markdown",
   "metadata": {
    "direction": "ltr"
   },
   "source": []
  },
  {
   "cell_type": "markdown",
   "metadata": {
    "direction": "ltr"
   },
   "source": [
    "## Suggested Project's Structure and Preliminary Findings"
   ]
  },
  {
   "cell_type": "markdown",
   "metadata": {
    "direction": "rtl"
   },
   "source": [
    "בסעיף זה אציג את מבנה ראשי הפרקים של פרויקט הגמר, ואספק תוצאות ראשוניות (בעיקר בכל הנוגע להכנת ה-Datasets לעבודה).\n",
    "כמו כן, אכלול תחת כל ראש פרק את רשימת הניתוחים / ויזואליזציות / בניית מודלים שאבקש לבצע בפרויקט הגמר, על מנת להסביר את כוונתיי להמשך.\n",
    "\n",
    "הערה - למבנה ראשי הפרקים המצורף מטה יווספו תת הסעיפים הבאים (יכילו חלקים מהאמור לעיל - הצעה לפרויקט גמר):\n",
    "\n",
    "1. מבוא - מטרות הפרויקט ומוטיבציה. \n",
    "2. רקע - הצגת מבנה גפי אחזקה, הצגת מבנה טיסות שבועי, הצגת מוקדי חנייה ואחזקה, תיאור שגרות אחזקה, הסבר על ה-Datasets. "
   ]
  },
  {
   "cell_type": "markdown",
   "metadata": {
    "direction": "rtl"
   },
   "source": [
    "## 3. הכנת ה-Datasets"
   ]
  },
  {
   "cell_type": "markdown",
   "metadata": {
    "direction": "rtl"
   },
   "source": [
    "### Dataset 3.1 תקלות"
   ]
  },
  {
   "cell_type": "markdown",
   "metadata": {
    "direction": "rtl"
   },
   "source": [
    "#### 3.1.1 קריאת הקובץ שהתקבל מחיל האוויר"
   ]
  },
  {
   "cell_type": "code",
   "execution_count": null,
   "metadata": {},
   "outputs": [],
   "source": []
  },
  {
   "cell_type": "markdown",
   "metadata": {
    "direction": "rtl"
   },
   "source": [
    "#### 3.1.2 בדיקה וטיפול בערכים חסרים"
   ]
  },
  {
   "cell_type": "code",
   "execution_count": null,
   "metadata": {},
   "outputs": [],
   "source": []
  },
  {
   "cell_type": "markdown",
   "metadata": {
    "direction": "rtl"
   },
   "source": [
    "#### 3.1.3 עיצוב ה-Dataset ושמירתו"
   ]
  },
  {
   "cell_type": "code",
   "execution_count": null,
   "metadata": {},
   "outputs": [],
   "source": []
  },
  {
   "cell_type": "markdown",
   "metadata": {
    "direction": "rtl"
   },
   "source": [
    "### Dataset 3.2 גיחות אימונים"
   ]
  },
  {
   "cell_type": "markdown",
   "metadata": {
    "direction": "rtl"
   },
   "source": [
    "#### 3.2.1 קריאת הקובץ שהתקבל מחיל האוויר"
   ]
  },
  {
   "cell_type": "code",
   "execution_count": null,
   "metadata": {},
   "outputs": [],
   "source": []
  },
  {
   "cell_type": "markdown",
   "metadata": {
    "direction": "rtl"
   },
   "source": [
    "#### 3.2.2 בדיקה וטיפול בערכים חסרים"
   ]
  },
  {
   "cell_type": "code",
   "execution_count": null,
   "metadata": {},
   "outputs": [],
   "source": []
  },
  {
   "cell_type": "markdown",
   "metadata": {
    "direction": "rtl"
   },
   "source": [
    "#### 3.2.3 עיצוב ה-Dataset ושמירתו"
   ]
  },
  {
   "cell_type": "code",
   "execution_count": null,
   "metadata": {},
   "outputs": [],
   "source": []
  },
  {
   "cell_type": "markdown",
   "metadata": {
    "direction": "rtl"
   },
   "source": [
    "### Dataset 3.3 חניות מסוקים"
   ]
  },
  {
   "cell_type": "markdown",
   "metadata": {
    "direction": "rtl"
   },
   "source": [
    "#### 3.3.1 קריאת הקובץ שהתקבל מחיל האוויר"
   ]
  },
  {
   "cell_type": "code",
   "execution_count": null,
   "metadata": {},
   "outputs": [],
   "source": []
  },
  {
   "cell_type": "markdown",
   "metadata": {
    "direction": "rtl"
   },
   "source": [
    "#### 3.3.2 בדיקה וטיפול בערכים חסרים"
   ]
  },
  {
   "cell_type": "code",
   "execution_count": null,
   "metadata": {},
   "outputs": [],
   "source": []
  },
  {
   "cell_type": "markdown",
   "metadata": {
    "direction": "rtl"
   },
   "source": [
    "#### 3.3.3 עיצוב ה-Dataset ושמירתו"
   ]
  },
  {
   "cell_type": "code",
   "execution_count": null,
   "metadata": {},
   "outputs": [],
   "source": []
  },
  {
   "cell_type": "markdown",
   "metadata": {
    "direction": "rtl"
   },
   "source": [
    "### Dataset 3.4 נתונים מטארולוגיים"
   ]
  },
  {
   "cell_type": "markdown",
   "metadata": {
    "direction": "rtl"
   },
   "source": [
    "#### 3.4.1 שאיבת נתונים משרת IMS"
   ]
  },
  {
   "cell_type": "code",
   "execution_count": 277,
   "metadata": {},
   "outputs": [],
   "source": [
    "# Prepare a list of tuples - Station's name and id.\n",
    "stations_list = [('SEDE BOQER', 98),\n",
    "                 ('EZUZ', 338),\n",
    "                 ('PARAN', 207),\n",
    "                 ('HAZEVA', 33),\n",
    "                 ('BESOR FARM', 58),\n",
    "                 ('DOROT', 79),\n",
    "                 ('ASHQELON PORT', 208),\n",
    "                 ('NEOT SMADAR', 232),\n",
    "                 ('SEDOM', 65),\n",
    "                 ('ARAD', 29),\n",
    "                 ('EN GEDI', 211),\n",
    "                 ('METZOKE DRAGOT', 210),\n",
    "                 ('NETIV HALAMED HE', 25),\n",
    "                 ('ASHDOD PORT', 124),\n",
    "                 ('MAALE GILBOA', 224),\n",
    "                 ('HADERA PORT', 46),\n",
    "                 ('ZIKHRON YAAQOV', 45),\n",
    "                 ('EN KARMEL', 44),\n",
    "                 ('HAIFA UNIVERSITY', 42),\n",
    "                 ('NEWE YAAR', 186),\n",
    "                 ('YAVNEEL', 11), \n",
    "                 ('GAMLA', 227),\n",
    "                 ('MEROM GOLAN PICMAN', 10),\n",
    "                 ('DAFNA', 348),\n",
    "                 ('ELON', 73),\n",
    "                 ('ESHHAR', 205), \n",
    "                 ('ZEFAT HAR KENAAN', 62)]\n",
    "\n",
    "# Select dates to retrive from.\n",
    "dates_to_retrive_from = [(\"2018/01/01\",\"2018/03/31\"), (\"2018/07/01\",\"2018/09/30\")]"
   ]
  },
  {
   "cell_type": "code",
   "execution_count": 286,
   "metadata": {},
   "outputs": [
    {
     "name": "stdout",
     "output_type": "stream",
     "text": [
      "Retrive 2018/01/01 to 2018/03/31 data..\n",
      "Succefully rertived SEDE BOQER meterological data from IMS server..\n",
      "Succefully rertived EZUZ meterological data from IMS server..\n",
      "Succefully rertived PARAN meterological data from IMS server..\n",
      "Succefully rertived HAZEVA meterological data from IMS server..\n",
      "Succefully rertived BESOR FARM meterological data from IMS server..\n",
      "Succefully rertived DOROT meterological data from IMS server..\n",
      "Succefully rertived ASHQELON PORT meterological data from IMS server..\n",
      "Succefully rertived NEOT SMADAR meterological data from IMS server..\n",
      "Succefully rertived SEDOM meterological data from IMS server..\n",
      "Succefully rertived ARAD meterological data from IMS server..\n",
      "Succefully rertived EN GEDI meterological data from IMS server..\n",
      "Succefully rertived METZOKE DRAGOT meterological data from IMS server..\n",
      "Succefully rertived NETIV HALAMED HE meterological data from IMS server..\n",
      "Succefully rertived ASHDOD PORT meterological data from IMS server..\n",
      "Succefully rertived MAALE GILBOA meterological data from IMS server..\n",
      "Succefully rertived HADERA PORT meterological data from IMS server..\n",
      "Succefully rertived ZIKHRON YAAQOV meterological data from IMS server..\n",
      "Succefully rertived EN KARMEL meterological data from IMS server..\n",
      "Succefully rertived HAIFA UNIVERSITY meterological data from IMS server..\n",
      "Succefully rertived NEWE YAAR meterological data from IMS server..\n",
      "Succefully rertived YAVNEEL meterological data from IMS server..\n",
      "Succefully rertived GAMLA meterological data from IMS server..\n",
      "Succefully rertived MEROM GOLAN PICMAN meterological data from IMS server..\n",
      "Succefully rertived DAFNA meterological data from IMS server..\n",
      "Succefully rertived ELON meterological data from IMS server..\n",
      "Succefully rertived ESHHAR meterological data from IMS server..\n",
      "Succefully rertived ZEFAT HAR KENAAN meterological data from IMS server..\n",
      "Retrive 2018/07/01 to 2018/09/30 data..\n",
      "Succefully rertived SEDE BOQER meterological data from IMS server..\n",
      "Succefully rertived EZUZ meterological data from IMS server..\n",
      "Succefully rertived PARAN meterological data from IMS server..\n",
      "Succefully rertived HAZEVA meterological data from IMS server..\n",
      "Succefully rertived BESOR FARM meterological data from IMS server..\n",
      "Succefully rertived DOROT meterological data from IMS server..\n",
      "Succefully rertived ASHQELON PORT meterological data from IMS server..\n",
      "Succefully rertived NEOT SMADAR meterological data from IMS server..\n",
      "Succefully rertived SEDOM meterological data from IMS server..\n",
      "Succefully rertived ARAD meterological data from IMS server..\n",
      "Succefully rertived EN GEDI meterological data from IMS server..\n",
      "Succefully rertived METZOKE DRAGOT meterological data from IMS server..\n",
      "Succefully rertived NETIV HALAMED HE meterological data from IMS server..\n",
      "Succefully rertived ASHDOD PORT meterological data from IMS server..\n",
      "Succefully rertived MAALE GILBOA meterological data from IMS server..\n",
      "Succefully rertived HADERA PORT meterological data from IMS server..\n",
      "Succefully rertived ZIKHRON YAAQOV meterological data from IMS server..\n",
      "Succefully rertived EN KARMEL meterological data from IMS server..\n",
      "Succefully rertived HAIFA UNIVERSITY meterological data from IMS server..\n",
      "Succefully rertived NEWE YAAR meterological data from IMS server..\n",
      "Succefully rertived YAVNEEL meterological data from IMS server..\n",
      "Succefully rertived GAMLA meterological data from IMS server..\n",
      "Succefully rertived MEROM GOLAN PICMAN meterological data from IMS server..\n",
      "Succefully rertived DAFNA meterological data from IMS server..\n",
      "Succefully rertived ELON meterological data from IMS server..\n",
      "Succefully rertived ESHHAR meterological data from IMS server..\n",
      "Succefully rertived ZEFAT HAR KENAAN meterological data from IMS server..\n"
     ]
    }
   ],
   "source": [
    "import json\n",
    "import requests\n",
    "import pandas as pd\n",
    "\n",
    "# Use unique token recived from the IMS to retrive data.\n",
    "headers = {'Authorization': 'ApiToken f058958a-d8bd-47cc-95d7-7ecf98610e47'}\n",
    "\n",
    "# Fill the observations list.\n",
    "observations_list = []\n",
    "\n",
    "# Retrive data for the selcted dates.\n",
    "for date in dates_to_retrive_from:\n",
    "    print(\"Retrive {} to {} data..\".format(date[0], date[1]))\n",
    "    # Retrive data for every station within the stations list.\n",
    "    for station in stations_list:\n",
    "        url = \"https://api.ims.gov.il/v1/envista/stations/{}/data?from={}&to={}\".format(station[1], date[0], date[1])\n",
    "        # Get JSON from IMS server.\n",
    "        response = requests.request(\"GET\", url, headers=headers)\n",
    "        if response.status_code == requests.codes.ok:\n",
    "            data = json.loads(response.text.encode('utf8'))\n",
    "            # Print to console.\n",
    "            print(\"Succefully rertived {} meterological data from IMS server..\".format(station[0]))\n",
    "        else:\n",
    "            print(\"\\x1b[31mRequest returned with a fault. Can't retrive {} data from IMS server..\\x1b[0m\".format(station[0]))\n",
    "        # Travel through the JSON to extract the desired features.\n",
    "        for record in data['data']:\n",
    "            single_observation = {'Time': pd.to_datetime(record['datetime']), 'Station Name': station[0]}\n",
    "            for channel in record['channels']:\n",
    "                if channel['name'] == 'Rain':\n",
    "                    single_observation['Rain'] = channel['value']\n",
    "                elif channel['name'] == 'RH':\n",
    "                    single_observation['Humidity'] = channel['value']\n",
    "                elif channel['name'] == 'TD':\n",
    "                    single_observation['Temperature'] = channel['value']\n",
    "                elif channel['name'] == 'WD':\n",
    "                    single_observation['Wind Direction'] = channel['value']\n",
    "                elif channel['name'] == 'WS':\n",
    "                    single_observation['Wind Speed'] = channel['value']\n",
    "            observations_list.append(single_observation)\n",
    "\n",
    "# Create new DataFrame to keep the meterological data.\n",
    "meterological_df = pd.DataFrame(observations_list)"
   ]
  },
  {
   "cell_type": "markdown",
   "metadata": {
    "direction": "rtl"
   },
   "source": [
    "#### 3.4.2 בדיקה וטיפול בערכים חסרים"
   ]
  },
  {
   "cell_type": "code",
   "execution_count": 287,
   "metadata": {},
   "outputs": [
    {
     "data": {
      "text/plain": [
       "0"
      ]
     },
     "execution_count": 287,
     "metadata": {},
     "output_type": "execute_result"
    }
   ],
   "source": [
    "# Make sure we are not missing any data.\n",
    "meterological_df.isna().sum().sum()"
   ]
  },
  {
   "cell_type": "markdown",
   "metadata": {
    "direction": "rtl"
   },
   "source": [
    "#### 3.4.3 עיצוב ה-Dataset ושמירתו"
   ]
  },
  {
   "cell_type": "code",
   "execution_count": 288,
   "metadata": {},
   "outputs": [],
   "source": [
    "# Convert Time column to datetimeIndex object, to allow Grouper with frequency opeartors.\n",
    "meterological_df.Time = pd.to_datetime(meterological_df.Time, utc=True)\n",
    "\n",
    "# Group by Stations and Time, while changing the time resolution to hours.\n",
    "meterological_df = meterological_df.groupby([pd.Grouper(key='Station Name'), pd.Grouper(freq='H', key='Time')]).agg(\n",
    "    {'Rain': \"sum\",\n",
    "     'Wind Speed': \"mean\", \n",
    "     'Wind Direction': 'mean',\n",
    "     'Temperature': \"mean\",\n",
    "     'Humidity': \"mean\"})"
   ]
  },
  {
   "cell_type": "code",
   "execution_count": 289,
   "metadata": {},
   "outputs": [],
   "source": [
    "meterological_df.to_csv(\"meterological_dataset_2018.csv\")"
   ]
  },
  {
   "cell_type": "markdown",
   "metadata": {
    "direction": "rtl"
   },
   "source": [
    "## 4. תוצאות ודיון"
   ]
  },
  {
   "cell_type": "markdown",
   "metadata": {
    "direction": "rtl"
   },
   "source": [
    "דיון וניתוח התוצאות יבוצע ברצף להצגת התוצאות עבור כל תת סעיף כמתואר מטה."
   ]
  },
  {
   "cell_type": "markdown",
   "metadata": {
    "direction": "rtl"
   },
   "source": [
    "### EDA 4.1"
   ]
  },
  {
   "cell_type": "markdown",
   "metadata": {
    "direction": "rtl"
   },
   "source": [
    "### 4.1.1 חקר תקלות כללי"
   ]
  },
  {
   "cell_type": "markdown",
   "metadata": {
    "direction": "rtl"
   },
   "source": [
    "#### Bar Chart להצגת כמות התקלות וסוגן (בחינה דו שנתית)"
   ]
  },
  {
   "cell_type": "markdown",
   "metadata": {
    "direction": "rtl"
   },
   "source": [
    "#### Bar Chart להצגת כמות התקלות לפי מספר זנב (בחינה דו שנתית)"
   ]
  },
  {
   "cell_type": "markdown",
   "metadata": {
    "direction": "rtl"
   },
   "source": [
    "#### Bar Chart להצגת כמות התקלות הממוצעת לשעת טיסה לפי מספר זנב (בחינה דו שנתית)"
   ]
  },
  {
   "cell_type": "markdown",
   "metadata": {
    "direction": "rtl"
   },
   "source": [
    "#### Bar Chart להצגת כמות התקלות הממוצעת לשעת חנייה לפי מספר זנב (בחינה דו שנתית)"
   ]
  },
  {
   "cell_type": "markdown",
   "metadata": {
    "direction": "rtl"
   },
   "source": [
    "#### הצגה טבלאית של זמן ממוצע בין פתיחת תקלות בחלוקה למספרי זנב (בחינה דו שנתית)"
   ]
  },
  {
   "cell_type": "markdown",
   "metadata": {
    "direction": "rtl"
   },
   "source": [
    "#### Pie Chart להצגת חלוקת שעות הטיסה לפי מספר זנב (בחינה דו שנתית)"
   ]
  },
  {
   "cell_type": "markdown",
   "metadata": {
    "direction": "rtl"
   },
   "source": [
    "#### Heat Map להצגת סוג תקלות לפי מספר זנב (בחינה דו שנתית)"
   ]
  },
  {
   "cell_type": "markdown",
   "metadata": {
    "direction": "rtl"
   },
   "source": [
    "#### דיון וניתוח השונות בתוצאות בין מספרי זנב שונים"
   ]
  },
  {
   "cell_type": "markdown",
   "metadata": {
    "direction": "rtl"
   },
   "source": [
    "#### Bar Chart להצגת כמות התקלות לפי סוג משתמש (בחינה דו שנתית)"
   ]
  },
  {
   "cell_type": "markdown",
   "metadata": {
    "direction": "rtl"
   },
   "source": [
    "#### Nested Pie Chart להצגת סוג וכמות התקלות הלא מאומתות (בחינה דו שנתית)"
   ]
  },
  {
   "cell_type": "markdown",
   "metadata": {
    "direction": "rtl"
   },
   "source": [
    "#### Nested Pie Chart להצגת סוג וכמות תקלות שנפתחו ע\"י טייס (בחינה דו שנתית)"
   ]
  },
  {
   "cell_type": "markdown",
   "metadata": {
    "direction": "rtl"
   },
   "source": [
    "#### Scatter Plot להצגת כמות התקלות לפי זמן ממוצע (בשעות) בין טיסות (בחינה דו שנתית)"
   ]
  },
  {
   "cell_type": "markdown",
   "metadata": {
    "direction": "rtl"
   },
   "source": [
    "#### Bar Chart להצגת כמות וסוג התקלות לפי מקום חנייה (בחינה דו שנתית)"
   ]
  },
  {
   "cell_type": "markdown",
   "metadata": {
    "direction": "rtl"
   },
   "source": [
    "#### הצגה טבלאית של משך זמן סגירת תקלות (בשעות) לפי מקצוע ולפי מקום חנייה"
   ]
  },
  {
   "cell_type": "markdown",
   "metadata": {
    "direction": "rtl"
   },
   "source": [
    "#### הצגה טבלאית של זמן ממוצע (בשעות) בין פתיחת תקלות לפי מקום חנייה"
   ]
  },
  {
   "cell_type": "markdown",
   "metadata": {
    "direction": "rtl"
   },
   "source": [
    "### 4.1.2 חקר תקלות כתלות במשתני מזג האוויר"
   ]
  },
  {
   "cell_type": "markdown",
   "metadata": {
    "direction": "rtl"
   },
   "source": [
    "### 4.1.2.1 היכרות עם משתני מזג האוויר"
   ]
  },
  {
   "cell_type": "markdown",
   "metadata": {
    "direction": "rtl"
   },
   "source": [
    "#### הצגה טבלאית של מספר ימי הגשם לפי חודשים (בחינה דו שנתית)"
   ]
  },
  {
   "cell_type": "markdown",
   "metadata": {
    "direction": "rtl"
   },
   "source": [
    "#### הצגה טבלאית של כמות הגשם לפי מקום חנייה על פני חודשי השנה (בחינה דו שנתית)"
   ]
  },
  {
   "cell_type": "markdown",
   "metadata": {
    "direction": "rtl"
   },
   "source": [
    "#### הצגה טבלאית של ממוצע הטמפ' על פני חודשי השנה (בחינה דו שנתית)"
   ]
  },
  {
   "cell_type": "markdown",
   "metadata": {
    "direction": "rtl"
   },
   "source": [
    "#### הצגה טבלאית של קרינה גלובלית ממוצעת על פני חודשי השנה (בחינה דו שנתית)"
   ]
  },
  {
   "cell_type": "markdown",
   "metadata": {
    "direction": "rtl"
   },
   "source": [
    "#### הצגה טבלאית של לחות ממוצעת לפי 5 חלונות זמן ביום לאורך חודשי השנה (בחינה דו שנתית)"
   ]
  },
  {
   "cell_type": "markdown",
   "metadata": {
    "direction": "rtl"
   },
   "source": [
    "### 4.1.2.2 ניתוח השפעה בהינתן חנייה סטטית"
   ]
  },
  {
   "cell_type": "markdown",
   "metadata": {
    "direction": "rtl"
   },
   "source": [
    "#### Jointgrid עבור מ\"מ גשם ותקלות (בחינה דו שנתית)"
   ]
  },
  {
   "cell_type": "markdown",
   "metadata": {
    "direction": "rtl"
   },
   "source": [
    "#### Jointgrid עבור מעלות צלזיוס ותקלות (בחינה דו שנתית)"
   ]
  },
  {
   "cell_type": "markdown",
   "metadata": {
    "direction": "rtl"
   },
   "source": [
    "#### Jointgrid עבור קרינה גלובלית ותקלות (בחינה דו שנתית)"
   ]
  },
  {
   "cell_type": "markdown",
   "metadata": {
    "direction": "rtl"
   },
   "source": [
    "#### Jointgrid עבור רוח ממוצעת (בחלוקה לרוח מזרחית ומערבית) ותקלות (בחינה דו שנתית) "
   ]
  },
  {
   "cell_type": "markdown",
   "metadata": {
    "direction": "rtl"
   },
   "source": [
    "#### Heat Map של סוג התקלות לפי מעלות צלזיוס (בחינה דו שנתית)"
   ]
  },
  {
   "cell_type": "markdown",
   "metadata": {
    "direction": "rtl"
   },
   "source": [
    "#### Heat Map של סוג התקלות לפי מ\"מ גשם (בחינה דו שנתית)"
   ]
  },
  {
   "cell_type": "markdown",
   "metadata": {
    "direction": "rtl"
   },
   "source": [
    "#### Heat Map של סוג התקלות לפי מדד קרינה גלובלי (בחינה דו שנתית)"
   ]
  },
  {
   "cell_type": "markdown",
   "metadata": {
    "direction": "rtl"
   },
   "source": [
    "#### Heat Map של סוג התקלות לפי ממוצע אחוזי לחות (בחינה דו שנתית)"
   ]
  },
  {
   "cell_type": "markdown",
   "metadata": {
    "direction": "rtl"
   },
   "source": [
    "#### Swarm Plot עבור טמפ', גשם, רוח, קרינה גלובלית, ולחות לטובת בחינת יכולת הקלסיפיקציה לפי משתנים אלו"
   ]
  },
  {
   "cell_type": "markdown",
   "metadata": {
    "direction": "rtl"
   },
   "source": [
    "#### Scatter Matrix לבחינת מתאם בין משתני מזג אוויר שונים"
   ]
  },
  {
   "cell_type": "markdown",
   "metadata": {
    "direction": "rtl"
   },
   "source": [
    "### 4.1.2.3 ניתוח השפעה במהלך ולאחר טיסה"
   ]
  },
  {
   "cell_type": "markdown",
   "metadata": {
    "direction": "rtl"
   },
   "source": [
    "#### Jointgrid עבור מ\"מ גשם ותקלות (בחינה דו שנתית)"
   ]
  },
  {
   "cell_type": "markdown",
   "metadata": {
    "direction": "rtl"
   },
   "source": [
    "#### Jointgrid עבור מעלות צלזיוס ותקלות (בחינה דו שנתית)"
   ]
  },
  {
   "cell_type": "markdown",
   "metadata": {
    "direction": "rtl"
   },
   "source": [
    "#### Jointgrid עבור קרינה גלובלית ותקלות (בחינה דו שנתית)"
   ]
  },
  {
   "cell_type": "markdown",
   "metadata": {
    "direction": "rtl"
   },
   "source": [
    "#### Jointgrid עבור רוח ממוצעת (בחלוקה לרוח מזרחית ומערבית) ותקלות (בחינה דו שנתית) "
   ]
  },
  {
   "cell_type": "markdown",
   "metadata": {
    "direction": "rtl"
   },
   "source": [
    "#### Heat Map של סוג התקלות לפי מעלות צלזיוס (בחינה דו שנתית)"
   ]
  },
  {
   "cell_type": "markdown",
   "metadata": {
    "direction": "rtl"
   },
   "source": [
    "#### Heat Map של סוג התקלות לפי מ\"מ גשם (בחינה דו שנתית)"
   ]
  },
  {
   "cell_type": "markdown",
   "metadata": {
    "direction": "rtl"
   },
   "source": [
    "#### Heat Map של סוג התקלות לפי מדד קרינה גלובלי (בחינה דו שנתית)"
   ]
  },
  {
   "cell_type": "markdown",
   "metadata": {
    "direction": "rtl"
   },
   "source": [
    "#### Heat Map של סוג התקלות לפי ממוצע אחוזי לחות (בחינה דו שנתית)"
   ]
  },
  {
   "cell_type": "markdown",
   "metadata": {
    "direction": "rtl"
   },
   "source": [
    "#### Swarm Plot עבור טמפ', גשם, רוח, קרינה גלובלית, ולחות לטובת בחינת יכולת הקלסיפיקציה לפי משתנים אלו"
   ]
  },
  {
   "cell_type": "markdown",
   "metadata": {
    "direction": "rtl"
   },
   "source": [
    "#### Scatter Matrix לבחינת מתאם בין משתני מזג אוויר שונים"
   ]
  },
  {
   "cell_type": "markdown",
   "metadata": {
    "direction": "rtl"
   },
   "source": [
    "### 4.1.2.4 חקר תקלות כתלות במבנה שבועי (מועדי אחזקה וטיסות)"
   ]
  },
  {
   "cell_type": "markdown",
   "metadata": {
    "direction": "rtl"
   },
   "source": [
    "#### Discrete Distribution as Horizontal Bar Chart עבור סוג התקלות לפי ימות השבוע (בחינה דו שנתית)"
   ]
  },
  {
   "cell_type": "markdown",
   "metadata": {
    "direction": "rtl"
   },
   "source": [
    "### 4.2 ניתוח קשרי גומלין בין מסוקים"
   ]
  },
  {
   "cell_type": "markdown",
   "metadata": {
    "direction": "rtl"
   },
   "source": [
    "#### 4.2.1 הכנת ה-Datasets"
   ]
  },
  {
   "cell_type": "markdown",
   "metadata": {
    "direction": "rtl"
   },
   "source": [
    "#### 4.2.2 בניית רשת דו צדדית לתיאור קשר בין מסוקים (מספרי זנב) ותקלות שנפתחו ע\"י טייס באמצעות NetworkX"
   ]
  },
  {
   "cell_type": "markdown",
   "metadata": {
    "direction": "rtl"
   },
   "source": [
    "#### 4.2.3 הטלה ממושקלת (לפי תקנון שעות טיסה לסוג תקלה) של הרשת הדו צדדית שנבנתה למציאת קשרים בין מסוקים באמצעות NetworkX"
   ]
  },
  {
   "cell_type": "markdown",
   "metadata": {
    "direction": "rtl"
   },
   "source": [
    "#### 4.2.4 דיון על הקשרים לעיל שימצאו, תוך ניסיון לקשור בין אוכלוסיות מסוקים שונות, לטובת בירור נוסף ועתידי (שלא במסגרת עבודה זו) "
   ]
  },
  {
   "cell_type": "markdown",
   "metadata": {
    "direction": "rtl"
   },
   "source": [
    "### 4.3 בחינת השפעת המבנה השבועי על כמות וסוג התקלות"
   ]
  },
  {
   "cell_type": "markdown",
   "metadata": {
    "direction": "rtl"
   },
   "source": [
    "#### 4.3.1 ביצוע Clustering של שבועות טיסה בעלי מועדי טיסות דומים (זמני המראה) באמצעות K-means Clustering"
   ]
  },
  {
   "cell_type": "markdown",
   "metadata": {
    "direction": "rtl"
   },
   "source": [
    "#### 4.3.2 ביצוע Clustering של שבועות טיסה בעלי מועדי טיסות דומים (זמני המראה) באמצעות Gaussian Mixture Model"
   ]
  },
  {
   "cell_type": "markdown",
   "metadata": {
    "direction": "rtl"
   },
   "source": [
    "#### 4.3.3 השוואת ביצועי המודלים לעיל, וקיום דיון על מחלקות המבנה השבועי שהוסקו"
   ]
  },
  {
   "cell_type": "markdown",
   "metadata": {
    "direction": "rtl"
   },
   "source": [
    "#### 4.3.3 הצגת שעות הטיסה הממוצעות כמו גם נתונים סטטיסטיים נוספים, עבור מחלקות מבנה שבועי שהוסקו לעיל"
   ]
  },
  {
   "cell_type": "markdown",
   "metadata": {
    "direction": "rtl"
   },
   "source": [
    "#### 4.3.4 הצגת Discrete Distribution as Horizontal Bar Chart עבור סוגי התקלות לפי מחלקות המבנה השבועי שהוסקו לעיל"
   ]
  },
  {
   "cell_type": "markdown",
   "metadata": {
    "direction": "rtl"
   },
   "source": [
    "#### 4.3.5 הצגת ממוצע משך זמן סגירת תקלות לפי מחלקות המבנה השבועי שהוסקו לעיל"
   ]
  },
  {
   "cell_type": "markdown",
   "metadata": {
    "direction": "rtl"
   },
   "source": [
    "#### 4.3.6.\tדיון על מבנה שבועי מומלץ, לאור הנתונים לעיל, ובהתייחס לשקלול פרמטרים איכותיים נוספים עליהם יורחב בכתב "
   ]
  },
  {
   "cell_type": "markdown",
   "metadata": {
    "direction": "rtl"
   },
   "source": [
    "### 4.4 בניית מודל סיווג תקלות לפי משתני מזג האוויר (חנייה)"
   ]
  },
  {
   "cell_type": "markdown",
   "metadata": {
    "direction": "rtl"
   },
   "source": [
    "#### 4.4.1 הכנת ה-Datasets"
   ]
  },
  {
   "cell_type": "markdown",
   "metadata": {
    "direction": "rtl"
   },
   "source": [
    "#### 4.4.2 בחירת המשתנים הבלתי תלויים ומחלקות התקלות של המשתנה התלוי, בהסתמך על שלב ה-EDA"
   ]
  },
  {
   "cell_type": "markdown",
   "metadata": {
    "direction": "rtl"
   },
   "source": [
    "#### 4.4.3 בניית מודל באמצעות KNN והערכת ביצועיו"
   ]
  },
  {
   "cell_type": "markdown",
   "metadata": {
    "direction": "rtl"
   },
   "source": [
    "#### 4.4.4 בניית מודל באמצעות Logistic Regression והערכת ביצועיו"
   ]
  },
  {
   "cell_type": "markdown",
   "metadata": {
    "direction": "rtl"
   },
   "source": [
    "#### 4.4.5 בניית מודל באמצעות Navie Bayes והערכת ביצועיו"
   ]
  },
  {
   "cell_type": "markdown",
   "metadata": {
    "direction": "rtl"
   },
   "source": [
    "#### 4.4.6 בניית מודל באמצעות Random Forest והערכת ביצועיו"
   ]
  },
  {
   "cell_type": "markdown",
   "metadata": {
    "direction": "rtl"
   },
   "source": [
    "#### 4.4.7 ביצוע Stacking של מודלים שונים (במידת הצורך)"
   ]
  },
  {
   "cell_type": "markdown",
   "metadata": {
    "direction": "rtl"
   },
   "source": [
    "#### 4.4.8 דיון על ביצועי המודלים השונים ובחירת המודל שהציג את הביצועים הטובים ביותר"
   ]
  },
  {
   "cell_type": "markdown",
   "metadata": {
    "direction": "rtl"
   },
   "source": [
    "### 4.5 בניית מודל סיווג תקלות לפי משתני מזג האוויר (תו\"כ או לאחר טיסות)"
   ]
  },
  {
   "cell_type": "markdown",
   "metadata": {
    "direction": "rtl"
   },
   "source": [
    "#### 4.5.1 הכנת ה-Datasets"
   ]
  },
  {
   "cell_type": "markdown",
   "metadata": {
    "direction": "rtl"
   },
   "source": [
    "#### 4.5.2 בחירת המשתנים הבלתי תלויים ומחלקות התקלות של המשתנה התלוי, בהסתמך על שלב ה-EDA"
   ]
  },
  {
   "cell_type": "markdown",
   "metadata": {
    "direction": "rtl"
   },
   "source": [
    "#### 4.5.3 בניית מודל באמצעות KNN והערכת ביצועיו"
   ]
  },
  {
   "cell_type": "markdown",
   "metadata": {
    "direction": "rtl"
   },
   "source": [
    "#### 4.5.4 בניית מודל באמצעות Logistic Regression והערכת ביצועיו"
   ]
  },
  {
   "cell_type": "markdown",
   "metadata": {
    "direction": "rtl"
   },
   "source": [
    "#### 4.5.5 בניית מודל באמצעות Navie Bayes והערכת ביצועיו"
   ]
  },
  {
   "cell_type": "markdown",
   "metadata": {
    "direction": "rtl"
   },
   "source": [
    "#### 4.5.6 בניית מודל באמצעות Random Forest והערכת ביצועיו"
   ]
  },
  {
   "cell_type": "markdown",
   "metadata": {
    "direction": "rtl"
   },
   "source": [
    "#### 4.5.7 ביצוע Stacking של מודלים שונים (במידת הצורך)"
   ]
  },
  {
   "cell_type": "markdown",
   "metadata": {
    "direction": "rtl"
   },
   "source": [
    "#### 4.5.8 דיון על ביצועי המודלים השונים ובחירת המודל שהציג את הביצועים הטובים ביותר"
   ]
  },
  {
   "cell_type": "markdown",
   "metadata": {
    "direction": "rtl"
   },
   "source": [
    "### 4.6 דיון על קשרי הגומלין (באם קיימים) בין תקלות לפי משתני מזג אוויר בעת חנייה / טיסה"
   ]
  },
  {
   "cell_type": "markdown",
   "metadata": {
    "direction": "rtl"
   },
   "source": [
    "## 5. מסקנות"
   ]
  }
 ],
 "metadata": {
  "direction": "ltr",
  "kernelspec": {
   "display_name": "Python 3",
   "language": "python",
   "name": "python3"
  },
  "language_info": {
   "codemirror_mode": {
    "name": "ipython",
    "version": 3
   },
   "file_extension": ".py",
   "mimetype": "text/x-python",
   "name": "python",
   "nbconvert_exporter": "python",
   "pygments_lexer": "ipython3",
   "version": "3.8.5"
  }
 },
 "nbformat": 4,
 "nbformat_minor": 4
}
