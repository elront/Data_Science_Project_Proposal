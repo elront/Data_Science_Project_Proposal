{
 "cells": [
  {
   "cell_type": "markdown",
   "metadata": {
    "direction": "ltr"
   },
   "source": [
    "# Data Science Workshop - Project Proposal"
   ]
  },
  {
   "cell_type": "markdown",
   "metadata": {
    "direction": "ltr"
   },
   "source": [
    "## Student's Details"
   ]
  },
  {
   "cell_type": "markdown",
   "metadata": {
    "direction": "ltr"
   },
   "source": [
    "* First name: Elron\n",
    "* Last name: Tvizer\n",
    "* Identification number: 301801346"
   ]
  },
  {
   "cell_type": "markdown",
   "metadata": {
    "direction": "ltr"
   },
   "source": [
    "## Project's Goals"
   ]
  },
  {
   "cell_type": "markdown",
   "metadata": {
    "direction": "ltr"
   },
   "source": [
    "This project is meant to help an Israeli Air Force helicopters squadron to improve its maintenance and planning processes, to reduce the overall number of helicopters' malfunctions, as well as improve the response time of handling a malfunction. \n",
    "\n",
    "It is well believed for some time that weather phenomena have great impact of the helicopter’s serviceability, thus this project intends to clarify this assumption. \n",
    "\n",
    "Furthermore, it is meant to provide insights about the recommended weekly training flights plan, which by default determines the schedule of the maintenance routines and carried out flight, something which may contribute to increase the availability of helicopters, thus increasing the squadron's flexibility to train its pilots. \n",
    "\n",
    "I will seek to perform the above by analysing and extracting insights from the data provided by the Israeli Air Force, as well as by building a regression model for classifying malfunctions based on different weather features, extracted from the Israeli Meteorological Service servers.\n",
    "\n",
    "**Thus, the high-level goals of this project are:**\n",
    "\n",
    "* Conduct an analysis of various aspects of the malfunctions data provided, with respect to the squadron's two main working locations (Ramon Air Force Base and Ramat David Air Force Base).\n",
    "\n",
    "\n",
    "* Conduct an analysis to conclude the various weekly training flight plans implemented (as projected by the data provided by the Israeli Air Force), then analysing its effect on malfunctions' amount and type, in favour of improving the squadron's work.\n",
    "\n",
    "\n",
    "* Find connections between different tail numbers (helicopters), based on the provided datasets, by that giving the technical department a different viewpoint of the platform's maintenance activities and regulations.  \n",
    "\n",
    "\n",
    "* Build a regression model for classifying malfunctions, given the input of independent weather variables (on ground).\n",
    "\n",
    "\n",
    "* Build a regression model for classifying malfunctions, given the input of independent weather variables (during or after training flights departed from Ramat David Air Force Base)."
   ]
  },
  {
   "cell_type": "markdown",
   "metadata": {
    "direction": "ltr"
   },
   "source": [
    "## Motivation"
   ]
  },
  {
   "cell_type": "markdown",
   "metadata": {
    "direction": "ltr"
   },
   "source": [
    "Attached is an official request signed by the squadron's deputy commander, requesting to carry out the aforementioned analysis work and recommendations (for the part concerning weather damage impacts):"
   ]
  },
  {
   "cell_type": "markdown",
   "metadata": {},
   "source": [
    "![IAF_Request](images/IAF_Request.jpg)"
   ]
  },
  {
   "cell_type": "markdown",
   "metadata": {
    "direction": "ltr"
   },
   "source": [
    "Personally, as an active reserve officer in the squadron, and as having previously performed a commanding role thus aware of the weighty implications of the relatively low serviceability percentages of the squadron's helicopters, I find a great interest in contributing to this kind of analysis and classification work. \n",
    "\n",
    "As stated in the official request, no analysis of the provided malfunctions data is currently being performed, other than calculations of consequential statistics, which do not help make data-driven decisions (examples for the calculated statistics: average time between malfunctions, percentage of serviceability (i.e. the total number of helicopters available for flight each morning), etc.). Moreover, various decisions regarding helicopters' spare parts, and the presence of various maintenance professions personnel in the heliport (i.e. where helicopters are parked) are a result of rules of thumb, and \"gut feelings\", thus not knowledge-based.\n",
    "\n",
    "Many times, in the past the weekly flights plan has changed. As mentioned, the weekly flights plan dictates the squadron's progression in training plan, and involves many resources and constraints (for example: meeting the maintenance routines, allocating the required training resources - flight areas, etc.). A work which connects the serviceability of the squadron's helicopters and the weekly flights plan has been conducted in the past, albeit in a non-comprehensive and inclusive manner (based on a small number of samples, and without a specific reference to the malfunctions issue). In this work I would like to reveal the impacts of the weekly flights plan on the malfunctions amount and type, thus allowing a better decision to be taken.\n",
    "\n",
    "Another important feature of a helicopter is it being able to flight under difficult weather conditions. The squadron's helicopters are capable and required to perform theirs missions in the presence of a hard weather conditions. However, increased number of malfunctions, may reduce the helicopters' serviceability for carrying out these and other missions. A decision for having flights under difficult weather conditions on purpose, may increase the risk factors for specific types of malfunctions. Thus, having this knowledge may spur the squadron's commanders to make some improvements meant to handle these increased risk factors wisely (for example: manufacturing a dedicated sealing component, changing the flight areas in real-time, etc.).\n",
    "\n",
    "Squadron's operations on ground during various weather conditions, is another significant issue. As stated in the official request - the helicopters are routinely parked outdoor (unlike other aircrafts), and therefore are more exposed to weather damage - wind, rain, extreme temperatures (heat or cold), humidity and radiation. Some equipment may be in use, if it turns out that these weather damages are causing a great increase in the number of malfunctions.\n",
    "\n",
    "**To summarize, these are the general and personal motivations for carrying out this project:**\n",
    "* This project may contribute to increase the serviceability of the squadron's helicopters, by providing concrete recommendations for adjusting maintenance processes and flight planning.\n",
    "* This contribution is translated into a better and more accurate utilization of the Israeli taxpayer's money, by increasing the availability of helicopters for flights, instead of being grounded.\n",
    "* A personal desire to promote an issue that has greatly influenced, and still affects, the service experience of many others and mine.\n",
    "* Proof of concept of performing such analysis work, outside the Air Force, allowing additional squadrons taking the same road. This may also allow further un-classified data to be analysed outside the Air Force, offering an outsourced way of doing these kinds of jobs."
   ]
  },
  {
   "cell_type": "markdown",
   "metadata": {
    "direction": "ltr"
   },
   "source": [
    "## Domain-specifc Background"
   ]
  },
  {
   "cell_type": "markdown",
   "metadata": {
    "direction": "ltr"
   },
   "source": [
    "### Technical Departments"
   ]
  },
  {
   "cell_type": "markdown",
   "metadata": {
    "direction": "ltr"
   },
   "source": [
    "Helicopter’s maintenance routines are being performed by different technical departments:\n",
    "\n",
    "* **Class A** - Under the squadron's chain of command, this department is responsible for the weekly and daily maintenance routines. This department is divided into different teams, each of which is responsible for a different technical domain. In addition, this department personnel are present on site (heliport).\n",
    "\n",
    "\n",
    "* **Class B** - Under the base chain of command, this department is responsible for crossing-platforms technical domains. This department personnel are also divided into different teams, with respect to a specific technical domain. There is no overlapping between Class A and Class B responsibilities since each of which is responsible for different maintenance aspects and technical fields. This department personnel are not present on site (heliport) and invited upon request, although specific avionic team members are present prior to planned departures (most of the times).\n",
    "\n",
    "\n",
    "* **Class C** - It will not be discussed in this work, as maintenance routines of this class are being initiated once every X flight hours, outside of the squadron's authority.\n",
    "\n",
    "\n",
    "* **Class D** - It will not be discussed in this work, as maintenance routines of this class are being initiated once every X flight hours, outside of the squadron's authority.\n",
    "\n",
    "\n",
    "**To summarize** - The reported malfunctions that will be reviewed and analyzed during this work are malfunctions that were reported by Class A personnel as well as the squadron's pilots. In addition, these malfunctions are handled and fixed only by Class A and Class B personnel."
   ]
  },
  {
   "cell_type": "markdown",
   "metadata": {
    "direction": "ltr"
   },
   "source": [
    "### Regular Maintenance Routines"
   ]
  },
  {
   "cell_type": "markdown",
   "metadata": {
    "direction": "ltr"
   },
   "source": [
    "* **Weekly routine** - Takes place once every two weeks, or every 25 hours of flight. This is the most comprehensive maintenance routine. For this routine, the examined helicopter stands for a full day (morning to evening) and is not available for flight. During the weekly routine, malfunctions may be discovered that will not be detected in the rest of the maintenance routines, since this routine’s checklist is the most comprehensive one.\n",
    "\n",
    "\n",
    "* **Preflight checking routine** - Takes place before a day of flights. This check is valid for 24 hours or 10 cumulative flight hours (following the check).\n",
    "\n",
    "\n",
    "* **Between flights checking routine** - Takes place between flights. Can be performed up to 5 times within the range of the Preflight check. This routine checklist is shortened comparing to the Preflight checklist. However, the probability of not finding a malfunction during this routine while having it found during the Preflight routine is assumed to be low.\n",
    "\n",
    "\n",
    "* **Crews change routine** - This is a much shorter check comparing to the Between flight routine. This check is performed when the helicopter's auxiliary engine is on (i.e. usually when the pilots are being replaced before the helicopter departs for its next flight). After each landing, a crews change routine is being performed. This routine can be performed up to 5 times within the range of the Preflight check (10 flight hours).\n",
    "\n",
    "\n",
    "* **Strips check** - This is a specific test being performed every 5 hours of flight or every time the auxiliary engine shuts down, categorically. At the end of this check just a specific malfunction can be documented. Based on mechanical aspects, this malfunction is not correlated with weather phenomena.\n",
    "\n",
    "\n",
    "* **Quick check routine** - This is another version of the Between flights routine. It is being implemented mostly in Ramat David Base."
   ]
  },
  {
   "cell_type": "markdown",
   "metadata": {
    "direction": "ltr"
   },
   "source": [
    "### Weekly Flights Plan"
   ]
  },
  {
   "cell_type": "markdown",
   "metadata": {
    "direction": "ltr"
   },
   "source": []
  },
  {
   "cell_type": "markdown",
   "metadata": {
    "direction": "ltr"
   },
   "source": [
    "### When Do Malfunctions are being Reported?"
   ]
  },
  {
   "cell_type": "markdown",
   "metadata": {
    "direction": "ltr"
   },
   "source": [
    "In general, malfunctions are being reported (i.e registered in the technical department information system) when they are being found. \n",
    "\n",
    "There are two ways of finding a malfunction:\n",
    "1. During one of the maintenance routines (technicians).\n",
    "2. Before, after or during a flight (pilots).\n",
    "\n",
    "Not all malfunctions result in a grounded helicopter - malfunctions which have been found during flight, may not require an immediate return to base procedure, thus will be reported and handled just after landing. In both cases, the pilots are the ones hold responsibility for reporting the malfunction after landing.\n",
    "\n",
    "This description raises an important question:\n",
    "\n",
    "**For which time interval shall we look while correlating between a discovered malfunction and reported weather variables?** \n",
    "\n",
    "There is no strict answer to that question. However, after having a high-level understanding of the regular maintenance routines, as well as understanding the fundamentals of a default weekly flight plan, a one can argue that we shall look for a 12 hours weather variables history prior to a reported malfunction during Monday to Thursday. This relies on the assumption that in average, at least a single \"Between flight\" checking routine or one planned flight are assumed to be carried out during this time interval.\n",
    "\n",
    "We are left with Sunday. Assuming that most of the helicopters are not being maintained during the weekends, a history of 48 hours is required to truly reflect the weather variables impact on the helicopters' serviceability. \n",
    "\n",
    "These time interval assumptions may be changed a little bit after having a deeper understanding of the malfunction’s dataset."
   ]
  },
  {
   "cell_type": "markdown",
   "metadata": {
    "direction": "ltr"
   },
   "source": [
    "### Squadron's Main Locations"
   ]
  },
  {
   "cell_type": "markdown",
   "metadata": {
    "direction": "ltr"
   },
   "source": [
    "The squadron's main locations are:\n",
    "1. **Ramon Air Force Base** - Most of the squadron's helicopters are parked and maintained at this location. Therefore, most of the squadron's flights depart and land at this location. Helicopters spare parts are stored in this location.\n",
    "\n",
    "\n",
    "2. **Ramat David Air Force Base** - A small number of helicopters are parked there most of the year, with a small team of Class A personnel. Class B personnel are not present on site (besides members of the avionic team). A limited list of spare parts are present on site, thus a more complicated malfunctions may require specific Class A / Class B personnel and equipment to arrive from Ramon Air Force Base."
   ]
  },
  {
   "cell_type": "markdown",
   "metadata": {
    "direction": "ltr"
   },
   "source": [
    "## Datasets Intro"
   ]
  },
  {
   "cell_type": "markdown",
   "metadata": {
    "direction": "ltr"
   },
   "source": [
    "During this project I will work with the following four datasets:\n",
    "\n",
    "* Malfunctions Dataset.\n",
    "* Training Sorties Dataset.\n",
    "* Helicopters' Parking Locations Dataset.\n",
    "* Meteorological dataset.\n",
    "\n",
    "In the following sections I will shortly describe each of the above - mainly its origin and characteristics."
   ]
  },
  {
   "cell_type": "markdown",
   "metadata": {
    "direction": "ltr"
   },
   "source": [
    "### Malfunctions Dataset"
   ]
  },
  {
   "cell_type": "markdown",
   "metadata": {
    "direction": "ltr"
   },
   "source": []
  },
  {
   "cell_type": "markdown",
   "metadata": {
    "direction": "ltr"
   },
   "source": [
    "### Training Sorties Dataset"
   ]
  },
  {
   "cell_type": "markdown",
   "metadata": {
    "direction": "ltr"
   },
   "source": []
  },
  {
   "cell_type": "markdown",
   "metadata": {
    "direction": "ltr"
   },
   "source": [
    "### Helicopters' Parking Locations Dataset"
   ]
  },
  {
   "cell_type": "markdown",
   "metadata": {
    "direction": "ltr"
   },
   "source": []
  },
  {
   "cell_type": "markdown",
   "metadata": {
    "direction": "ltr"
   },
   "source": [
    "### Meteorological dataset"
   ]
  },
  {
   "cell_type": "markdown",
   "metadata": {
    "direction": "ltr"
   },
   "source": []
  },
  {
   "cell_type": "markdown",
   "metadata": {
    "direction": "ltr"
   },
   "source": [
    "## Tools and Algorithms to be Used"
   ]
  },
  {
   "cell_type": "markdown",
   "metadata": {
    "direction": "ltr"
   },
   "source": [
    "* **Pandas** - Working with datasets.\n",
    "\n",
    "\n",
    "* **Matplotlib** and Seaborn - Visualiztions.\n",
    "\n",
    "\n",
    "* **Scikit learn** - Machine Learning.\n",
    "    * Regression - KNeighborsClassifier, LogisticRegression, GaussianNB and RandomForestClassifier.\n",
    "    * Clustering - KMeans and GaussianMixture.\n",
    "    \n",
    "    \n",
    "* **Network X** - Network Analysis.\n",
    "    * Projection."
   ]
  },
  {
   "cell_type": "markdown",
   "metadata": {
    "direction": "ltr"
   },
   "source": [
    "## Suggested Project's Structure and Preliminary Findings"
   ]
  },
  {
   "cell_type": "markdown",
   "metadata": {
    "direction": "ltr"
   },
   "source": [
    "This section presents the suggested project's table of contents. For some of the discussed contents preliminary results will be included (especially those related to the datasets pre-processing), for 2020 only.\n",
    "\n",
    "\n",
    "Note - The following missing subsections will be added to the final project's table of contents, as they have already been discussed in this proposal:\n",
    "\n",
    "\n",
    "**1. Introduction:**\n",
    "\n",
    "    1.1 Project's Goals.\n",
    "    \n",
    "    1.2 Motivation.\n",
    "    \n",
    "**2. Domain-specific Background:**\n",
    "\n",
    "    2.1 Technical Departments.\n",
    "    \n",
    "    2.2 Regular Maintenance Routines.\n",
    "    \n",
    "    2.3 When Do Malfunctions are being Documented?\n",
    "    \n",
    "    2.4 Weekly Flights Plan.\n",
    "    \n",
    "    2.5 Squadron's Main Locations.\n",
    "    \n",
    "    2.6 Datasets Intro."
   ]
  },
  {
   "cell_type": "markdown",
   "metadata": {
    "direction": "ltr"
   },
   "source": [
    "## 3. Datasets Pre-processing"
   ]
  },
  {
   "cell_type": "markdown",
   "metadata": {
    "direction": "ltr"
   },
   "source": [
    "###  3.1 Malfunctions Dataset"
   ]
  },
  {
   "cell_type": "markdown",
   "metadata": {
    "direction": "ltr"
   },
   "source": [
    "#### 3.1.1 Reading Israeli Air Force CSV"
   ]
  },
  {
   "cell_type": "code",
   "execution_count": null,
   "metadata": {
    "direction": "rtl"
   },
   "outputs": [],
   "source": []
  },
  {
   "cell_type": "markdown",
   "metadata": {
    "direction": "ltr"
   },
   "source": [
    "#### 3.1.2 Check and Handle Missing Values (if any)"
   ]
  },
  {
   "cell_type": "code",
   "execution_count": null,
   "metadata": {
    "direction": "rtl"
   },
   "outputs": [],
   "source": []
  },
  {
   "cell_type": "markdown",
   "metadata": {
    "direction": "ltr"
   },
   "source": [
    "#### 3.1.3 Shaping the Dataset"
   ]
  },
  {
   "cell_type": "code",
   "execution_count": null,
   "metadata": {
    "direction": "rtl"
   },
   "outputs": [],
   "source": []
  },
  {
   "cell_type": "markdown",
   "metadata": {
    "direction": "ltr"
   },
   "source": [
    "###  3.2  Training Sorties Dataset"
   ]
  },
  {
   "cell_type": "markdown",
   "metadata": {
    "direction": "ltr"
   },
   "source": [
    "#### 3.2.1 Reading Israeli Air Force CSV"
   ]
  },
  {
   "cell_type": "code",
   "execution_count": null,
   "metadata": {
    "direction": "rtl"
   },
   "outputs": [],
   "source": []
  },
  {
   "cell_type": "markdown",
   "metadata": {
    "direction": "ltr"
   },
   "source": [
    "#### 3.2.2 Check and Handle Missing Values (if any)"
   ]
  },
  {
   "cell_type": "code",
   "execution_count": null,
   "metadata": {
    "direction": "rtl"
   },
   "outputs": [],
   "source": []
  },
  {
   "cell_type": "markdown",
   "metadata": {
    "direction": "ltr"
   },
   "source": [
    "#### 3.2.3 Shaping the Dataset"
   ]
  },
  {
   "cell_type": "code",
   "execution_count": null,
   "metadata": {
    "direction": "rtl"
   },
   "outputs": [],
   "source": []
  },
  {
   "cell_type": "markdown",
   "metadata": {
    "direction": "ltr"
   },
   "source": [
    "###  3.3 Helicopters' Parking Locations Dataset"
   ]
  },
  {
   "cell_type": "markdown",
   "metadata": {
    "direction": "ltr"
   },
   "source": [
    "#### 3.3.1 Reading Israeli Air Force CSV"
   ]
  },
  {
   "cell_type": "code",
   "execution_count": null,
   "metadata": {
    "direction": "rtl"
   },
   "outputs": [],
   "source": []
  },
  {
   "cell_type": "markdown",
   "metadata": {
    "direction": "ltr"
   },
   "source": [
    "#### 3.3.2 Check and Handle Missing Values (if any)"
   ]
  },
  {
   "cell_type": "code",
   "execution_count": null,
   "metadata": {
    "direction": "rtl"
   },
   "outputs": [],
   "source": []
  },
  {
   "cell_type": "markdown",
   "metadata": {
    "direction": "ltr"
   },
   "source": [
    "#### 3.3.3 Shaping the Dataset"
   ]
  },
  {
   "cell_type": "code",
   "execution_count": null,
   "metadata": {
    "direction": "rtl"
   },
   "outputs": [],
   "source": []
  },
  {
   "cell_type": "markdown",
   "metadata": {
    "direction": "ltr"
   },
   "source": [
    "### 3.4 Meteorological dataset"
   ]
  },
  {
   "cell_type": "markdown",
   "metadata": {
    "direction": "ltr"
   },
   "source": [
    "#### 3.4.1 Extract Data from IMS Server"
   ]
  },
  {
   "cell_type": "code",
   "execution_count": 277,
   "metadata": {},
   "outputs": [],
   "source": [
    "# Prepare a list of tuples - Station's name and id.\n",
    "stations_list = [('SEDE BOQER', 98),\n",
    "                 ('EZUZ', 338),\n",
    "                 ('PARAN', 207),\n",
    "                 ('HAZEVA', 33),\n",
    "                 ('BESOR FARM', 58),\n",
    "                 ('DOROT', 79),\n",
    "                 ('ASHQELON PORT', 208),\n",
    "                 ('NEOT SMADAR', 232),\n",
    "                 ('SEDOM', 65),\n",
    "                 ('ARAD', 29),\n",
    "                 ('EN GEDI', 211),\n",
    "                 ('METZOKE DRAGOT', 210),\n",
    "                 ('NETIV HALAMED HE', 25),\n",
    "                 ('ASHDOD PORT', 124),\n",
    "                 ('MAALE GILBOA', 224),\n",
    "                 ('HADERA PORT', 46),\n",
    "                 ('ZIKHRON YAAQOV', 45),\n",
    "                 ('EN KARMEL', 44),\n",
    "                 ('HAIFA UNIVERSITY', 42),\n",
    "                 ('NEWE YAAR', 186),\n",
    "                 ('YAVNEEL', 11), \n",
    "                 ('GAMLA', 227),\n",
    "                 ('MEROM GOLAN PICMAN', 10),\n",
    "                 ('DAFNA', 348),\n",
    "                 ('ELON', 73),\n",
    "                 ('ESHHAR', 205), \n",
    "                 ('ZEFAT HAR KENAAN', 62)]\n",
    "\n",
    "# Select dates to retrive from.\n",
    "dates_to_retrive_from = [(\"2018/01/01\",\"2018/03/31\"), (\"2018/07/01\",\"2018/09/30\")]"
   ]
  },
  {
   "cell_type": "code",
   "execution_count": 286,
   "metadata": {},
   "outputs": [
    {
     "name": "stdout",
     "output_type": "stream",
     "text": [
      "Retrive 2018/01/01 to 2018/03/31 data..\n",
      "Succefully rertived SEDE BOQER meterological data from IMS server..\n",
      "Succefully rertived EZUZ meterological data from IMS server..\n",
      "Succefully rertived PARAN meterological data from IMS server..\n",
      "Succefully rertived HAZEVA meterological data from IMS server..\n",
      "Succefully rertived BESOR FARM meterological data from IMS server..\n",
      "Succefully rertived DOROT meterological data from IMS server..\n",
      "Succefully rertived ASHQELON PORT meterological data from IMS server..\n",
      "Succefully rertived NEOT SMADAR meterological data from IMS server..\n",
      "Succefully rertived SEDOM meterological data from IMS server..\n",
      "Succefully rertived ARAD meterological data from IMS server..\n",
      "Succefully rertived EN GEDI meterological data from IMS server..\n",
      "Succefully rertived METZOKE DRAGOT meterological data from IMS server..\n",
      "Succefully rertived NETIV HALAMED HE meterological data from IMS server..\n",
      "Succefully rertived ASHDOD PORT meterological data from IMS server..\n",
      "Succefully rertived MAALE GILBOA meterological data from IMS server..\n",
      "Succefully rertived HADERA PORT meterological data from IMS server..\n",
      "Succefully rertived ZIKHRON YAAQOV meterological data from IMS server..\n",
      "Succefully rertived EN KARMEL meterological data from IMS server..\n",
      "Succefully rertived HAIFA UNIVERSITY meterological data from IMS server..\n",
      "Succefully rertived NEWE YAAR meterological data from IMS server..\n",
      "Succefully rertived YAVNEEL meterological data from IMS server..\n",
      "Succefully rertived GAMLA meterological data from IMS server..\n",
      "Succefully rertived MEROM GOLAN PICMAN meterological data from IMS server..\n",
      "Succefully rertived DAFNA meterological data from IMS server..\n",
      "Succefully rertived ELON meterological data from IMS server..\n",
      "Succefully rertived ESHHAR meterological data from IMS server..\n",
      "Succefully rertived ZEFAT HAR KENAAN meterological data from IMS server..\n",
      "Retrive 2018/07/01 to 2018/09/30 data..\n",
      "Succefully rertived SEDE BOQER meterological data from IMS server..\n",
      "Succefully rertived EZUZ meterological data from IMS server..\n",
      "Succefully rertived PARAN meterological data from IMS server..\n",
      "Succefully rertived HAZEVA meterological data from IMS server..\n",
      "Succefully rertived BESOR FARM meterological data from IMS server..\n",
      "Succefully rertived DOROT meterological data from IMS server..\n",
      "Succefully rertived ASHQELON PORT meterological data from IMS server..\n",
      "Succefully rertived NEOT SMADAR meterological data from IMS server..\n",
      "Succefully rertived SEDOM meterological data from IMS server..\n",
      "Succefully rertived ARAD meterological data from IMS server..\n",
      "Succefully rertived EN GEDI meterological data from IMS server..\n",
      "Succefully rertived METZOKE DRAGOT meterological data from IMS server..\n",
      "Succefully rertived NETIV HALAMED HE meterological data from IMS server..\n",
      "Succefully rertived ASHDOD PORT meterological data from IMS server..\n",
      "Succefully rertived MAALE GILBOA meterological data from IMS server..\n",
      "Succefully rertived HADERA PORT meterological data from IMS server..\n",
      "Succefully rertived ZIKHRON YAAQOV meterological data from IMS server..\n",
      "Succefully rertived EN KARMEL meterological data from IMS server..\n",
      "Succefully rertived HAIFA UNIVERSITY meterological data from IMS server..\n",
      "Succefully rertived NEWE YAAR meterological data from IMS server..\n",
      "Succefully rertived YAVNEEL meterological data from IMS server..\n",
      "Succefully rertived GAMLA meterological data from IMS server..\n",
      "Succefully rertived MEROM GOLAN PICMAN meterological data from IMS server..\n",
      "Succefully rertived DAFNA meterological data from IMS server..\n",
      "Succefully rertived ELON meterological data from IMS server..\n",
      "Succefully rertived ESHHAR meterological data from IMS server..\n",
      "Succefully rertived ZEFAT HAR KENAAN meterological data from IMS server..\n"
     ]
    }
   ],
   "source": [
    "import json\n",
    "import requests\n",
    "import pandas as pd\n",
    "\n",
    "# Use unique token recived from the IMS to retrive data.\n",
    "headers = {'Authorization': 'ApiToken f058958a-d8bd-47cc-95d7-7ecf98610e47'}\n",
    "\n",
    "# Fill the observations list.\n",
    "observations_list = []\n",
    "\n",
    "# Retrive data for the selcted dates.\n",
    "for date in dates_to_retrive_from:\n",
    "    print(\"Retrive {} to {} data..\".format(date[0], date[1]))\n",
    "    # Retrive data for every station within the stations list.\n",
    "    for station in stations_list:\n",
    "        url = \"https://api.ims.gov.il/v1/envista/stations/{}/data?from={}&to={}\".format(station[1], date[0], date[1])\n",
    "        # Get JSON from IMS server.\n",
    "        response = requests.request(\"GET\", url, headers=headers)\n",
    "        if response.status_code == requests.codes.ok:\n",
    "            data = json.loads(response.text.encode('utf8'))\n",
    "            # Print to console.\n",
    "            print(\"Succefully rertived {} meterological data from IMS server..\".format(station[0]))\n",
    "        else:\n",
    "            print(\"\\x1b[31mRequest returned with a fault. Can't retrive {} data from IMS server..\\x1b[0m\".format(station[0]))\n",
    "        # Travel through the JSON to extract the desired features.\n",
    "        for record in data['data']:\n",
    "            single_observation = {'Time': pd.to_datetime(record['datetime']), 'Station Name': station[0]}\n",
    "            for channel in record['channels']:\n",
    "                if channel['name'] == 'Rain':\n",
    "                    single_observation['Rain'] = channel['value']\n",
    "                elif channel['name'] == 'RH':\n",
    "                    single_observation['Humidity'] = channel['value']\n",
    "                elif channel['name'] == 'TD':\n",
    "                    single_observation['Temperature'] = channel['value']\n",
    "                elif channel['name'] == 'WD':\n",
    "                    single_observation['Wind Direction'] = channel['value']\n",
    "                elif channel['name'] == 'WS':\n",
    "                    single_observation['Wind Speed'] = channel['value']\n",
    "            observations_list.append(single_observation)\n",
    "\n",
    "# Create new DataFrame to keep the meterological data.\n",
    "meterological_df = pd.DataFrame(observations_list)"
   ]
  },
  {
   "cell_type": "markdown",
   "metadata": {
    "direction": "ltr"
   },
   "source": [
    "#### 3.4 Check and Handle Missing Values (if any)"
   ]
  },
  {
   "cell_type": "code",
   "execution_count": 287,
   "metadata": {},
   "outputs": [
    {
     "data": {
      "text/plain": [
       "0"
      ]
     },
     "execution_count": 287,
     "metadata": {},
     "output_type": "execute_result"
    }
   ],
   "source": [
    "# Make sure we are not missing any data.\n",
    "meterological_df.isna().sum().sum()"
   ]
  },
  {
   "cell_type": "markdown",
   "metadata": {
    "direction": "ltr"
   },
   "source": [
    "#### 3.4.3 Shaping the Dataset"
   ]
  },
  {
   "cell_type": "code",
   "execution_count": 288,
   "metadata": {},
   "outputs": [],
   "source": [
    "# Convert Time column to datetimeIndex object, to allow Grouper with frequency opeartors.\n",
    "meterological_df.Time = pd.to_datetime(meterological_df.Time, utc=True)\n",
    "\n",
    "# Group by Stations and Time, while changing the time resolution to hours.\n",
    "meterological_df = meterological_df.groupby([pd.Grouper(key='Station Name'), pd.Grouper(freq='H', key='Time')]).agg(\n",
    "    {'Rain': \"sum\",\n",
    "     'Wind Speed': \"mean\", \n",
    "     'Wind Direction': 'mean',\n",
    "     'Temperature': \"mean\",\n",
    "     'Humidity': \"mean\"})"
   ]
  },
  {
   "cell_type": "code",
   "execution_count": 289,
   "metadata": {},
   "outputs": [],
   "source": [
    "meterological_df.to_csv(\"meterological_dataset_2018.csv\")"
   ]
  },
  {
   "cell_type": "markdown",
   "metadata": {
    "direction": "ltr"
   },
   "source": [
    "## 4. Results, Findings and Discussion"
   ]
  },
  {
   "cell_type": "markdown",
   "metadata": {
    "direction": "ltr"
   },
   "source": [
    "Discussion and analysis of the results will take place right after presenting the results, at each subsection."
   ]
  },
  {
   "cell_type": "markdown",
   "metadata": {
    "direction": "ltr"
   },
   "source": [
    "### 4.1 EDA"
   ]
  },
  {
   "cell_type": "markdown",
   "metadata": {
    "direction": "ltr"
   },
   "source": [
    "### 4.1.1 General Malfunctions Discovery"
   ]
  },
  {
   "cell_type": "markdown",
   "metadata": {
    "direction": "ltr"
   },
   "source": [
    "#### Total Number of Malfunctions per Type (Bar Chart, 2019 / 2020)"
   ]
  },
  {
   "cell_type": "markdown",
   "metadata": {
    "direction": "ltr"
   },
   "source": [
    "#### Total Number of Malfunctions per Tail Number (Bar Chart, 2019 / 2020)"
   ]
  },
  {
   "cell_type": "markdown",
   "metadata": {
    "direction": "ltr"
   },
   "source": [
    "#### Mean Number of Malfunctions per Flight Hour per Tail Number (Bar Chart, 2019 / 2020)"
   ]
  },
  {
   "cell_type": "markdown",
   "metadata": {
    "direction": "ltr"
   },
   "source": [
    "#### Mean Number of Malfunctions per Parking Hour per Tail Number (Bar Chart, 2019 / 2020)"
   ]
  },
  {
   "cell_type": "markdown",
   "metadata": {
    "direction": "ltr"
   },
   "source": [
    "#### Mean Time Between Reported Malfunctions per Tail Number (Bar Chart, 2019 / 2020)"
   ]
  },
  {
   "cell_type": "markdown",
   "metadata": {
    "direction": "ltr"
   },
   "source": [
    "#### Distribution of Flight Hours Between Tail Numbers (Pie Chart, 2019 / 2020)"
   ]
  },
  {
   "cell_type": "markdown",
   "metadata": {
    "direction": "ltr"
   },
   "source": [
    "#### Malfunctions Types Cross Tail Numbers Heatmap (2019 / 2020)"
   ]
  },
  {
   "cell_type": "markdown",
   "metadata": {
    "direction": "ltr"
   },
   "source": [
    "#### Total Number of Malfunctions per User Type (Bar Chart, 2019 / 2020)"
   ]
  },
  {
   "cell_type": "markdown",
   "metadata": {
    "direction": "ltr"
   },
   "source": [
    "#### Un-Verified Malfunction Types Distribution (Nested Pie Chart, 2019 / 2020)"
   ]
  },
  {
   "cell_type": "markdown",
   "metadata": {
    "direction": "ltr"
   },
   "source": [
    "#### Pilots' Reported Malfunctions' Types Distribution (Nested Pie Chart, 2019 / 2020)"
   ]
  },
  {
   "cell_type": "markdown",
   "metadata": {
    "direction": "ltr"
   },
   "source": [
    "#### Mean Number of Malfunctions per Time Intervals Between Flights (Scatter Plot, 2019 / 2020)"
   ]
  },
  {
   "cell_type": "markdown",
   "metadata": {
    "direction": "ltr"
   },
   "source": [
    "#### Total Number of Malfunctions per Type at Ramon Air Force Base (Bar Chart, 2019 / 2020)"
   ]
  },
  {
   "cell_type": "markdown",
   "metadata": {},
   "source": [
    "#### Total Number of Malfunctions per Type at Ramat David Air Force Base (Bar Chart, 2019 / 2020)"
   ]
  },
  {
   "cell_type": "markdown",
   "metadata": {
    "direction": "ltr"
   },
   "source": [
    "#### Mean Time for Handling a Malfunction per Type at Ramon Air Force Base (Bar Chart, 2019 / 2020)"
   ]
  },
  {
   "cell_type": "markdown",
   "metadata": {},
   "source": [
    "#### Mean Time for Handling a Malfunction per Type at Ramat David Air Force Base (Bar Chart, 2019 / 2020)"
   ]
  },
  {
   "cell_type": "markdown",
   "metadata": {},
   "source": [
    "#### Mean Time for Reporting a new Malfunction per Type at Ramon Air Force Base (Bar Chart, 2019 / 2020)"
   ]
  },
  {
   "cell_type": "markdown",
   "metadata": {},
   "source": [
    "#### Mean Time for Reporting a new Malfunction per Type at Ramat David Air Force Base (Bar Chart, 2019 / 2020)"
   ]
  },
  {
   "cell_type": "markdown",
   "metadata": {
    "direction": "ltr"
   },
   "source": [
    "### 4.1.2 Malfunctions and Weather Phenomena"
   ]
  },
  {
   "cell_type": "markdown",
   "metadata": {
    "direction": "ltr"
   },
   "source": [
    "### 4.1.2.1 Understanding the Weather Variables"
   ]
  },
  {
   "cell_type": "markdown",
   "metadata": {
    "direction": "ltr"
   },
   "source": [
    "#### Total Number of Raining Days per Month at Ramon Air Force Base (Bar Chart, 2019 / 2020)"
   ]
  },
  {
   "cell_type": "markdown",
   "metadata": {},
   "source": [
    "#### Total Number of Raining Days per Month at Ramat David Air Force Base (Bar Chart, 2019 / 2020)"
   ]
  },
  {
   "cell_type": "markdown",
   "metadata": {
    "direction": "ltr"
   },
   "source": [
    "#### Rainfall per Month at Ramon Air Force Base (Bar Chart, 2019 / 2020)"
   ]
  },
  {
   "cell_type": "markdown",
   "metadata": {},
   "source": [
    "#### Rainfall per Month at Ramat David Air Force Base (Bar Chart, 2019 / 2020)"
   ]
  },
  {
   "cell_type": "markdown",
   "metadata": {
    "direction": "ltr"
   },
   "source": [
    "#### Mean Temperature per Month at Ramon Air Force Base (Bar Chart, 2019 / 2020)"
   ]
  },
  {
   "cell_type": "markdown",
   "metadata": {},
   "source": [
    "#### Mean Temperature per Month at Ramat David Air Force Base (Bar Chart, 2019 / 2020)"
   ]
  },
  {
   "cell_type": "markdown",
   "metadata": {},
   "source": [
    "#### Mean Global Radiation per Month at Ramon Air Force Base (Bar Chart, 2019 / 2020)"
   ]
  },
  {
   "cell_type": "markdown",
   "metadata": {
    "direction": "ltr"
   },
   "source": [
    "#### Mean Global Radiation per Month at Ramat David Air Force Base (Bar Chart, 2019 / 2020)"
   ]
  },
  {
   "cell_type": "markdown",
   "metadata": {},
   "source": [
    "#### 5 Windows a Day Mean Humidity per Month at Ramon Air Force Base (Nested Bar Chart, 2019 / 2020)"
   ]
  },
  {
   "cell_type": "markdown",
   "metadata": {
    "direction": "ltr"
   },
   "source": [
    "#### 5 Windows a Day Mean Humidity per Month at Ramat David Air Force Base (Nested Bar Chart, 2019 / 2020)"
   ]
  },
  {
   "cell_type": "markdown",
   "metadata": {
    "direction": "ltr"
   },
   "source": [
    "### 4.1.2.2 Analyzing Outdoor Parking Impacts"
   ]
  },
  {
   "cell_type": "markdown",
   "metadata": {
    "direction": "ltr"
   },
   "source": [
    "#### Rain intensity and Malfunctions (Jointgrid, 2019 / 2020)"
   ]
  },
  {
   "cell_type": "markdown",
   "metadata": {
    "direction": "ltr"
   },
   "source": [
    "#### Temperature and Malfunctions (Jointgrid, 2019 / 2020)"
   ]
  },
  {
   "cell_type": "markdown",
   "metadata": {
    "direction": "ltr"
   },
   "source": [
    "#### Global Radiation and Malfunctions (Jointgrid, 2019 / 2020)"
   ]
  },
  {
   "cell_type": "markdown",
   "metadata": {
    "direction": "ltr"
   },
   "source": [
    "#### Mean Wind Velocity and Malfunctions (Jointgrid, 2019 / 2020)"
   ]
  },
  {
   "cell_type": "markdown",
   "metadata": {},
   "source": [
    "East (090)"
   ]
  },
  {
   "cell_type": "markdown",
   "metadata": {},
   "source": [
    "West (270)"
   ]
  },
  {
   "cell_type": "markdown",
   "metadata": {
    "direction": "ltr"
   },
   "source": [
    "#### Temperature Value Cross Malfunctions Type Heatmap (2019 / 2020)"
   ]
  },
  {
   "cell_type": "markdown",
   "metadata": {
    "direction": "rtl"
   },
   "source": [
    "#### Heat Map של סוג התקלות לפי מ\"מ גשם (בחינה דו שנתית)"
   ]
  },
  {
   "cell_type": "markdown",
   "metadata": {
    "direction": "rtl"
   },
   "source": [
    "#### Heat Map של סוג התקלות לפי מדד קרינה גלובלי (בחינה דו שנתית)"
   ]
  },
  {
   "cell_type": "markdown",
   "metadata": {
    "direction": "rtl"
   },
   "source": [
    "#### Heat Map של סוג התקלות לפי ממוצע אחוזי לחות (בחינה דו שנתית)"
   ]
  },
  {
   "cell_type": "markdown",
   "metadata": {
    "direction": "rtl"
   },
   "source": [
    "#### Swarm Plot עבור טמפ', גשם, רוח, קרינה גלובלית, ולחות לטובת בחינת יכולת הקלסיפיקציה לפי משתנים אלו"
   ]
  },
  {
   "cell_type": "markdown",
   "metadata": {
    "direction": "rtl"
   },
   "source": [
    "#### Scatter Matrix לבחינת מתאם בין משתני מזג אוויר שונים"
   ]
  },
  {
   "cell_type": "markdown",
   "metadata": {
    "direction": "rtl"
   },
   "source": [
    "### 4.1.2.3 ניתוח השפעה במהלך ולאחר טיסה"
   ]
  },
  {
   "cell_type": "markdown",
   "metadata": {
    "direction": "rtl"
   },
   "source": [
    "#### Jointgrid עבור מ\"מ גשם ותקלות (בחינה דו שנתית)"
   ]
  },
  {
   "cell_type": "markdown",
   "metadata": {
    "direction": "rtl"
   },
   "source": [
    "#### Jointgrid עבור מעלות צלזיוס ותקלות (בחינה דו שנתית)"
   ]
  },
  {
   "cell_type": "markdown",
   "metadata": {
    "direction": "rtl"
   },
   "source": [
    "#### Jointgrid עבור קרינה גלובלית ותקלות (בחינה דו שנתית)"
   ]
  },
  {
   "cell_type": "markdown",
   "metadata": {
    "direction": "rtl"
   },
   "source": [
    "#### Jointgrid עבור רוח ממוצעת (בחלוקה לרוח מזרחית ומערבית) ותקלות (בחינה דו שנתית) "
   ]
  },
  {
   "cell_type": "markdown",
   "metadata": {
    "direction": "rtl"
   },
   "source": [
    "#### Heat Map של סוג התקלות לפי מעלות צלזיוס (בחינה דו שנתית)"
   ]
  },
  {
   "cell_type": "markdown",
   "metadata": {
    "direction": "rtl"
   },
   "source": [
    "#### Heat Map של סוג התקלות לפי מ\"מ גשם (בחינה דו שנתית)"
   ]
  },
  {
   "cell_type": "markdown",
   "metadata": {
    "direction": "rtl"
   },
   "source": [
    "#### Heat Map של סוג התקלות לפי מדד קרינה גלובלי (בחינה דו שנתית)"
   ]
  },
  {
   "cell_type": "markdown",
   "metadata": {
    "direction": "rtl"
   },
   "source": [
    "#### Heat Map של סוג התקלות לפי ממוצע אחוזי לחות (בחינה דו שנתית)"
   ]
  },
  {
   "cell_type": "markdown",
   "metadata": {
    "direction": "rtl"
   },
   "source": [
    "#### Swarm Plot עבור טמפ', גשם, רוח, קרינה גלובלית, ולחות לטובת בחינת יכולת הקלסיפיקציה לפי משתנים אלו"
   ]
  },
  {
   "cell_type": "markdown",
   "metadata": {
    "direction": "rtl"
   },
   "source": [
    "#### Scatter Matrix לבחינת מתאם בין משתני מזג אוויר שונים"
   ]
  },
  {
   "cell_type": "markdown",
   "metadata": {
    "direction": "rtl"
   },
   "source": [
    "### 4.1.2.4 חקר תקלות כתלות במבנה שבועי (מועדי אחזקה וטיסות)"
   ]
  },
  {
   "cell_type": "markdown",
   "metadata": {
    "direction": "rtl"
   },
   "source": [
    "#### Discrete Distribution as Horizontal Bar Chart עבור סוג התקלות לפי ימות השבוע (בחינה דו שנתית)"
   ]
  },
  {
   "cell_type": "markdown",
   "metadata": {
    "direction": "rtl"
   },
   "source": [
    "### 4.2 ניתוח קשרי גומלין בין מסוקים"
   ]
  },
  {
   "cell_type": "markdown",
   "metadata": {
    "direction": "rtl"
   },
   "source": [
    "#### 4.2.1 הכנת ה-Datasets"
   ]
  },
  {
   "cell_type": "markdown",
   "metadata": {
    "direction": "rtl"
   },
   "source": [
    "#### 4.2.2 בניית רשת דו צדדית לתיאור קשר בין מסוקים (מספרי זנב) ותקלות שנפתחו ע\"י טייס באמצעות NetworkX"
   ]
  },
  {
   "cell_type": "markdown",
   "metadata": {
    "direction": "rtl"
   },
   "source": [
    "#### 4.2.3 הטלה ממושקלת (לפי תקנון שעות טיסה לסוג תקלה) של הרשת הדו צדדית שנבנתה למציאת קשרים בין מסוקים באמצעות NetworkX"
   ]
  },
  {
   "cell_type": "markdown",
   "metadata": {
    "direction": "rtl"
   },
   "source": [
    "#### 4.2.4 דיון על הקשרים לעיל שימצאו, תוך ניסיון לקשור בין אוכלוסיות מסוקים שונות, לטובת בירור נוסף ועתידי (שלא במסגרת עבודה זו) "
   ]
  },
  {
   "cell_type": "markdown",
   "metadata": {
    "direction": "rtl"
   },
   "source": [
    "### 4.3 בחינת השפעת המבנה השבועי על כמות וסוג התקלות"
   ]
  },
  {
   "cell_type": "markdown",
   "metadata": {
    "direction": "rtl"
   },
   "source": [
    "#### 4.3.1 ביצוע Clustering של שבועות טיסה בעלי מועדי טיסות דומים (זמני המראה) באמצעות K-means Clustering"
   ]
  },
  {
   "cell_type": "markdown",
   "metadata": {
    "direction": "rtl"
   },
   "source": [
    "#### 4.3.2 ביצוע Clustering של שבועות טיסה בעלי מועדי טיסות דומים (זמני המראה) באמצעות Gaussian Mixture Model"
   ]
  },
  {
   "cell_type": "markdown",
   "metadata": {
    "direction": "rtl"
   },
   "source": [
    "#### 4.3.3 השוואת ביצועי המודלים לעיל, וקיום דיון על מחלקות המבנה השבועי שהוסקו"
   ]
  },
  {
   "cell_type": "markdown",
   "metadata": {
    "direction": "rtl"
   },
   "source": [
    "#### 4.3.3 הצגת שעות הטיסה הממוצעות כמו גם נתונים סטטיסטיים נוספים, עבור מחלקות מבנה שבועי שהוסקו לעיל"
   ]
  },
  {
   "cell_type": "markdown",
   "metadata": {
    "direction": "rtl"
   },
   "source": [
    "#### 4.3.4 הצגת Discrete Distribution as Horizontal Bar Chart עבור סוגי התקלות לפי מחלקות המבנה השבועי שהוסקו לעיל"
   ]
  },
  {
   "cell_type": "markdown",
   "metadata": {
    "direction": "rtl"
   },
   "source": [
    "#### 4.3.5 הצגת ממוצע משך זמן סגירת תקלות לפי מחלקות המבנה השבועי שהוסקו לעיל"
   ]
  },
  {
   "cell_type": "markdown",
   "metadata": {
    "direction": "rtl"
   },
   "source": [
    "#### 4.3.6.\tדיון על מבנה שבועי מומלץ, לאור הנתונים לעיל, ובהתייחס לשקלול פרמטרים איכותיים נוספים עליהם יורחב בכתב "
   ]
  },
  {
   "cell_type": "markdown",
   "metadata": {
    "direction": "rtl"
   },
   "source": [
    "### 4.4 בניית מודל סיווג תקלות לפי משתני מזג האוויר (חנייה)"
   ]
  },
  {
   "cell_type": "markdown",
   "metadata": {
    "direction": "rtl"
   },
   "source": [
    "#### 4.4.1 הכנת ה-Datasets"
   ]
  },
  {
   "cell_type": "markdown",
   "metadata": {
    "direction": "rtl"
   },
   "source": [
    "#### 4.4.2 בחירת המשתנים הבלתי תלויים ומחלקות התקלות של המשתנה התלוי, בהסתמך על שלב ה-EDA"
   ]
  },
  {
   "cell_type": "markdown",
   "metadata": {
    "direction": "rtl"
   },
   "source": [
    "#### 4.4.3 בניית מודל באמצעות KNN והערכת ביצועיו"
   ]
  },
  {
   "cell_type": "markdown",
   "metadata": {
    "direction": "rtl"
   },
   "source": [
    "#### 4.4.4 בניית מודל באמצעות Logistic Regression והערכת ביצועיו"
   ]
  },
  {
   "cell_type": "markdown",
   "metadata": {
    "direction": "rtl"
   },
   "source": [
    "#### 4.4.5 בניית מודל באמצעות Navie Bayes והערכת ביצועיו"
   ]
  },
  {
   "cell_type": "markdown",
   "metadata": {
    "direction": "rtl"
   },
   "source": [
    "#### 4.4.6 בניית מודל באמצעות Random Forest והערכת ביצועיו"
   ]
  },
  {
   "cell_type": "markdown",
   "metadata": {
    "direction": "rtl"
   },
   "source": [
    "#### 4.4.7 ביצוע Stacking של מודלים שונים (במידת הצורך)"
   ]
  },
  {
   "cell_type": "markdown",
   "metadata": {
    "direction": "rtl"
   },
   "source": [
    "#### 4.4.8 דיון על ביצועי המודלים השונים ובחירת המודל שהציג את הביצועים הטובים ביותר"
   ]
  },
  {
   "cell_type": "markdown",
   "metadata": {
    "direction": "rtl"
   },
   "source": [
    "### 4.5 בניית מודל סיווג תקלות לפי משתני מזג האוויר (תו\"כ או לאחר טיסות)"
   ]
  },
  {
   "cell_type": "markdown",
   "metadata": {
    "direction": "rtl"
   },
   "source": [
    "#### 4.5.1 הכנת ה-Datasets"
   ]
  },
  {
   "cell_type": "markdown",
   "metadata": {
    "direction": "rtl"
   },
   "source": [
    "#### 4.5.2 בחירת המשתנים הבלתי תלויים ומחלקות התקלות של המשתנה התלוי, בהסתמך על שלב ה-EDA"
   ]
  },
  {
   "cell_type": "markdown",
   "metadata": {
    "direction": "rtl"
   },
   "source": [
    "#### 4.5.3 בניית מודל באמצעות KNN והערכת ביצועיו"
   ]
  },
  {
   "cell_type": "markdown",
   "metadata": {
    "direction": "rtl"
   },
   "source": [
    "#### 4.5.4 בניית מודל באמצעות Logistic Regression והערכת ביצועיו"
   ]
  },
  {
   "cell_type": "markdown",
   "metadata": {
    "direction": "rtl"
   },
   "source": [
    "#### 4.5.5 בניית מודל באמצעות Navie Bayes והערכת ביצועיו"
   ]
  },
  {
   "cell_type": "markdown",
   "metadata": {
    "direction": "rtl"
   },
   "source": [
    "#### 4.5.6 בניית מודל באמצעות Random Forest והערכת ביצועיו"
   ]
  },
  {
   "cell_type": "markdown",
   "metadata": {
    "direction": "rtl"
   },
   "source": [
    "#### 4.5.7 ביצוע Stacking של מודלים שונים (במידת הצורך)"
   ]
  },
  {
   "cell_type": "markdown",
   "metadata": {
    "direction": "rtl"
   },
   "source": [
    "#### 4.5.8 דיון על ביצועי המודלים השונים ובחירת המודל שהציג את הביצועים הטובים ביותר"
   ]
  },
  {
   "cell_type": "markdown",
   "metadata": {
    "direction": "rtl"
   },
   "source": [
    "### 4.6 דיון על קשרי הגומלין (באם קיימים) בין תקלות לפי משתני מזג אוויר בעת חנייה / טיסה"
   ]
  },
  {
   "cell_type": "markdown",
   "metadata": {
    "direction": "rtl"
   },
   "source": [
    "## 5. מסקנות"
   ]
  }
 ],
 "metadata": {
  "direction": "ltr",
  "kernelspec": {
   "display_name": "Python 3",
   "language": "python",
   "name": "python3"
  },
  "language_info": {
   "codemirror_mode": {
    "name": "ipython",
    "version": 3
   },
   "file_extension": ".py",
   "mimetype": "text/x-python",
   "name": "python",
   "nbconvert_exporter": "python",
   "pygments_lexer": "ipython3",
   "version": "3.8.5"
  }
 },
 "nbformat": 4,
 "nbformat_minor": 4
}
